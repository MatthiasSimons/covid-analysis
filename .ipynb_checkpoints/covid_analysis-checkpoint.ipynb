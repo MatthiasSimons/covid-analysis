{
 "cells": [
  {
   "cell_type": "markdown",
   "metadata": {
    "colab_type": "text",
    "id": "view-in-github"
   },
   "source": [
    "<a href=\"https://colab.research.google.com/github/MatthiasSimons/covid-analysis/blob/main/covid_analysis.ipynb\" target=\"_parent\"><img src=\"https://colab.research.google.com/assets/colab-badge.svg\" alt=\"Open In Colab\"/></a>"
   ]
  },
  {
   "cell_type": "markdown",
   "metadata": {
    "id": "xhvCqeoGgOmp"
   },
   "source": [
    "# Programmierung und Auswertung großer Datenmengen\n",
    "## Einfluss des Entwicklungs- und Wohlstand auf die Covid-19 Pandemie\n",
    "-> Einfluss auf Wirtschaft/Entwicklung (BIP)\n",
    "-> Prognose BIP"
   ]
  },
  {
   "cell_type": "markdown",
   "metadata": {
    "id": "YaIRV8imeQyg"
   },
   "source": [
    "# Einleitung\n",
    "...\n",
    "\n",
    "Vorgehensweise\n",
    "\n",
    "\n",
    "*   Importieren\n",
    "*   Bereinigen\n",
    "*   Modifizieren\n",
    "*   Modellieren\n",
    "*   Validieren\n",
    "*   Bewerten\n",
    "*   Zusammenfassen"
   ]
  },
  {
   "cell_type": "markdown",
   "metadata": {
    "id": "1VUxuKdXdkPg"
   },
   "source": [
    "# Gliederung\n",
    "CRoos Industry Standard Process for Data Mining (CRISP-DM)\n",
    "\n",
    "1.   Business Understanding\n",
    "2.   Data Understanding\n",
    "3.   Data Preperation\n",
    "4.   Modelling\n",
    "5.   .... \n",
    "\n"
   ]
  },
  {
   "cell_type": "markdown",
   "metadata": {
    "id": "SpoDgDbPge47"
   },
   "source": [
    "## Vorbereitung\n",
    "\n",
    "Importieren der Bibliotheken\n",
    "\n"
   ]
  },
  {
   "cell_type": "code",
   "execution_count": 438,
   "metadata": {
    "id": "WUpSJdMgTFJr"
   },
   "outputs": [],
   "source": [
    "import pandas as pd\n",
    "import pandas_profiling\n",
    "import matplotlib.pyplot as plt\n",
    "import matplotlib.dates as mdates\n",
    "import matplotlib.ticker as mticker\n",
    "import seaborn as sns\n",
    "import numpy as np\n",
    "\n",
    "from sklearn.model_selection import train_test_split\n",
    "\n",
    "import folium\n",
    "import missingno as msno\n",
    "import pycountry_convert as pc\n",
    "from IPython.display import HTML\n",
    "\n",
    "import geopandas\n",
    "import folium\n",
    "\n",
    "from ipywidgets import interact, interactive, fixed, interact_manual\n",
    "import ipywidgets as widgets"
   ]
  },
  {
   "cell_type": "markdown",
   "metadata": {
    "id": "00xAlwSkei68"
   },
   "source": [
    "# 1. Business Understanding\n",
    "## 1.1 Was bedeuted Wohlstand und Entwicklung?\n",
    "Kennzahlen:\n",
    "- Bruttoinlandsprodukt\n",
    "    - Klassifizieren\n",
    "- Human Development Index\n",
    "\n",
    "## 1.2 Wie kann der Pandemie Verlauf bewertet werden?\n",
    "Kennzahlen:\n",
    "- Reproduktionszahl\n",
    "- Inzidenz\n",
    "- Sterbe-, Impfrate\n",
    "- strenge der Regeln (stringency Index)"
   ]
  },
  {
   "cell_type": "markdown",
   "metadata": {
    "id": "x6LIIa-_eoSI"
   },
   "source": [
    "# 2. Data Understanding"
   ]
  },
  {
   "cell_type": "markdown",
   "metadata": {},
   "source": [
    "Datensatz von \"Our World in Data\"\n",
    "\n",
    "| Metrics                     | Source                                                    | Updated | Countries |\n",
    "|-----------------------------|-----------------------------------------------------------|---------|-----------|\n",
    "| Vaccinations                | Official data collated by the Our World in Data team      | Daily   | 209       |\n",
    "| Tests & positivity          | Official data collated by the Our World in Data team      | Weekly  | 129       |\n",
    "| Hospital & ICU              | Official data collated by the Our World in Data team      | Weekly  | 34        |\n",
    "| Confirmed cases             | JHU CSSE COVID-19 Data                                    | Daily   | 191       |\n",
    "| Confirmed deaths            | JHU CSSE COVID-19 Data                                    | Daily   | 183       |\n",
    "| Reproduction rate           | Arroyo-Marioli F, Bullano F, Kucinskas S, Rondón-Moreno C | Daily   | 182       |\n",
    "| Policy responses            | Oxford COVID-19 Government Response Tracker               | Daily   | 181       |\n",
    "| Other variables of interest | International organizations (UN, World Bank, OECD, IHME…) | Fixed   | 218       |\n",
    "\n",
    "source: https://github.com/owid/covid-19-data/blob/master/public/data/README.md"
   ]
  },
  {
   "cell_type": "markdown",
   "metadata": {
    "id": "B4THF19Ig9bv"
   },
   "source": [
    "## 2.1 Importieren der Daten"
   ]
  },
  {
   "cell_type": "code",
   "execution_count": 439,
   "metadata": {},
   "outputs": [
    {
     "data": {
      "text/html": [
       "<div>\n",
       "<style scoped>\n",
       "    .dataframe tbody tr th:only-of-type {\n",
       "        vertical-align: middle;\n",
       "    }\n",
       "\n",
       "    .dataframe tbody tr th {\n",
       "        vertical-align: top;\n",
       "    }\n",
       "\n",
       "    .dataframe thead th {\n",
       "        text-align: right;\n",
       "    }\n",
       "</style>\n",
       "<table border=\"1\" class=\"dataframe\">\n",
       "  <thead>\n",
       "    <tr style=\"text-align: right;\">\n",
       "      <th></th>\n",
       "      <th>Unnamed: 0</th>\n",
       "      <th>iso_code</th>\n",
       "      <th>continent</th>\n",
       "      <th>location</th>\n",
       "      <th>date</th>\n",
       "      <th>total_cases</th>\n",
       "      <th>new_cases</th>\n",
       "      <th>new_cases_smoothed</th>\n",
       "      <th>total_deaths</th>\n",
       "      <th>new_deaths</th>\n",
       "      <th>new_deaths_smoothed</th>\n",
       "      <th>total_cases_per_million</th>\n",
       "      <th>new_cases_per_million</th>\n",
       "      <th>new_cases_smoothed_per_million</th>\n",
       "      <th>total_deaths_per_million</th>\n",
       "      <th>new_deaths_per_million</th>\n",
       "      <th>new_deaths_smoothed_per_million</th>\n",
       "      <th>reproduction_rate</th>\n",
       "      <th>icu_patients</th>\n",
       "      <th>icu_patients_per_million</th>\n",
       "      <th>hosp_patients</th>\n",
       "      <th>hosp_patients_per_million</th>\n",
       "      <th>weekly_icu_admissions</th>\n",
       "      <th>weekly_icu_admissions_per_million</th>\n",
       "      <th>weekly_hosp_admissions</th>\n",
       "      <th>weekly_hosp_admissions_per_million</th>\n",
       "      <th>new_tests</th>\n",
       "      <th>total_tests</th>\n",
       "      <th>total_tests_per_thousand</th>\n",
       "      <th>new_tests_per_thousand</th>\n",
       "      <th>new_tests_smoothed</th>\n",
       "      <th>new_tests_smoothed_per_thousand</th>\n",
       "      <th>positive_rate</th>\n",
       "      <th>tests_per_case</th>\n",
       "      <th>tests_units</th>\n",
       "      <th>total_vaccinations</th>\n",
       "      <th>people_vaccinated</th>\n",
       "      <th>people_fully_vaccinated</th>\n",
       "      <th>new_vaccinations</th>\n",
       "      <th>new_vaccinations_smoothed</th>\n",
       "      <th>total_vaccinations_per_hundred</th>\n",
       "      <th>people_vaccinated_per_hundred</th>\n",
       "      <th>people_fully_vaccinated_per_hundred</th>\n",
       "      <th>new_vaccinations_smoothed_per_million</th>\n",
       "      <th>stringency_index</th>\n",
       "      <th>population</th>\n",
       "      <th>population_density</th>\n",
       "      <th>median_age</th>\n",
       "      <th>aged_65_older</th>\n",
       "      <th>aged_70_older</th>\n",
       "      <th>gdp_per_capita</th>\n",
       "      <th>extreme_poverty</th>\n",
       "      <th>cardiovasc_death_rate</th>\n",
       "      <th>diabetes_prevalence</th>\n",
       "      <th>female_smokers</th>\n",
       "      <th>male_smokers</th>\n",
       "      <th>handwashing_facilities</th>\n",
       "      <th>hospital_beds_per_thousand</th>\n",
       "      <th>life_expectancy</th>\n",
       "      <th>human_development_index</th>\n",
       "      <th>excess_mortality</th>\n",
       "    </tr>\n",
       "  </thead>\n",
       "  <tbody>\n",
       "    <tr>\n",
       "      <th>0</th>\n",
       "      <td>0</td>\n",
       "      <td>AFG</td>\n",
       "      <td>Asia</td>\n",
       "      <td>Afghanistan</td>\n",
       "      <td>2020-02-24</td>\n",
       "      <td>1.0</td>\n",
       "      <td>1.0</td>\n",
       "      <td>NaN</td>\n",
       "      <td>NaN</td>\n",
       "      <td>NaN</td>\n",
       "      <td>NaN</td>\n",
       "      <td>0.03</td>\n",
       "      <td>0.03</td>\n",
       "      <td>NaN</td>\n",
       "      <td>NaN</td>\n",
       "      <td>NaN</td>\n",
       "      <td>NaN</td>\n",
       "      <td>NaN</td>\n",
       "      <td>NaN</td>\n",
       "      <td>NaN</td>\n",
       "      <td>NaN</td>\n",
       "      <td>NaN</td>\n",
       "      <td>NaN</td>\n",
       "      <td>NaN</td>\n",
       "      <td>NaN</td>\n",
       "      <td>NaN</td>\n",
       "      <td>NaN</td>\n",
       "      <td>NaN</td>\n",
       "      <td>NaN</td>\n",
       "      <td>NaN</td>\n",
       "      <td>NaN</td>\n",
       "      <td>NaN</td>\n",
       "      <td>NaN</td>\n",
       "      <td>NaN</td>\n",
       "      <td>NaN</td>\n",
       "      <td>NaN</td>\n",
       "      <td>NaN</td>\n",
       "      <td>NaN</td>\n",
       "      <td>NaN</td>\n",
       "      <td>NaN</td>\n",
       "      <td>NaN</td>\n",
       "      <td>NaN</td>\n",
       "      <td>NaN</td>\n",
       "      <td>NaN</td>\n",
       "      <td>8.33</td>\n",
       "      <td>3.89e+07</td>\n",
       "      <td>54.42</td>\n",
       "      <td>18.6</td>\n",
       "      <td>2.58</td>\n",
       "      <td>1.34</td>\n",
       "      <td>1803.99</td>\n",
       "      <td>NaN</td>\n",
       "      <td>597.03</td>\n",
       "      <td>9.59</td>\n",
       "      <td>NaN</td>\n",
       "      <td>NaN</td>\n",
       "      <td>37.75</td>\n",
       "      <td>0.5</td>\n",
       "      <td>64.83</td>\n",
       "      <td>0.51</td>\n",
       "      <td>NaN</td>\n",
       "    </tr>\n",
       "    <tr>\n",
       "      <th>1</th>\n",
       "      <td>1</td>\n",
       "      <td>AFG</td>\n",
       "      <td>Asia</td>\n",
       "      <td>Afghanistan</td>\n",
       "      <td>2020-02-25</td>\n",
       "      <td>1.0</td>\n",
       "      <td>0.0</td>\n",
       "      <td>NaN</td>\n",
       "      <td>NaN</td>\n",
       "      <td>NaN</td>\n",
       "      <td>NaN</td>\n",
       "      <td>0.03</td>\n",
       "      <td>0.00</td>\n",
       "      <td>NaN</td>\n",
       "      <td>NaN</td>\n",
       "      <td>NaN</td>\n",
       "      <td>NaN</td>\n",
       "      <td>NaN</td>\n",
       "      <td>NaN</td>\n",
       "      <td>NaN</td>\n",
       "      <td>NaN</td>\n",
       "      <td>NaN</td>\n",
       "      <td>NaN</td>\n",
       "      <td>NaN</td>\n",
       "      <td>NaN</td>\n",
       "      <td>NaN</td>\n",
       "      <td>NaN</td>\n",
       "      <td>NaN</td>\n",
       "      <td>NaN</td>\n",
       "      <td>NaN</td>\n",
       "      <td>NaN</td>\n",
       "      <td>NaN</td>\n",
       "      <td>NaN</td>\n",
       "      <td>NaN</td>\n",
       "      <td>NaN</td>\n",
       "      <td>NaN</td>\n",
       "      <td>NaN</td>\n",
       "      <td>NaN</td>\n",
       "      <td>NaN</td>\n",
       "      <td>NaN</td>\n",
       "      <td>NaN</td>\n",
       "      <td>NaN</td>\n",
       "      <td>NaN</td>\n",
       "      <td>NaN</td>\n",
       "      <td>8.33</td>\n",
       "      <td>3.89e+07</td>\n",
       "      <td>54.42</td>\n",
       "      <td>18.6</td>\n",
       "      <td>2.58</td>\n",
       "      <td>1.34</td>\n",
       "      <td>1803.99</td>\n",
       "      <td>NaN</td>\n",
       "      <td>597.03</td>\n",
       "      <td>9.59</td>\n",
       "      <td>NaN</td>\n",
       "      <td>NaN</td>\n",
       "      <td>37.75</td>\n",
       "      <td>0.5</td>\n",
       "      <td>64.83</td>\n",
       "      <td>0.51</td>\n",
       "      <td>NaN</td>\n",
       "    </tr>\n",
       "  </tbody>\n",
       "</table>\n",
       "</div>"
      ],
      "text/plain": [
       "   Unnamed: 0 iso_code continent     location        date  total_cases  \\\n",
       "0           0      AFG      Asia  Afghanistan  2020-02-24          1.0   \n",
       "1           1      AFG      Asia  Afghanistan  2020-02-25          1.0   \n",
       "\n",
       "   new_cases  new_cases_smoothed  total_deaths  new_deaths  \\\n",
       "0        1.0                 NaN           NaN         NaN   \n",
       "1        0.0                 NaN           NaN         NaN   \n",
       "\n",
       "   new_deaths_smoothed  total_cases_per_million  new_cases_per_million  \\\n",
       "0                  NaN                     0.03                   0.03   \n",
       "1                  NaN                     0.03                   0.00   \n",
       "\n",
       "   new_cases_smoothed_per_million  total_deaths_per_million  \\\n",
       "0                             NaN                       NaN   \n",
       "1                             NaN                       NaN   \n",
       "\n",
       "   new_deaths_per_million  new_deaths_smoothed_per_million  reproduction_rate  \\\n",
       "0                     NaN                              NaN                NaN   \n",
       "1                     NaN                              NaN                NaN   \n",
       "\n",
       "   icu_patients  icu_patients_per_million  hosp_patients  \\\n",
       "0           NaN                       NaN            NaN   \n",
       "1           NaN                       NaN            NaN   \n",
       "\n",
       "   hosp_patients_per_million  weekly_icu_admissions  \\\n",
       "0                        NaN                    NaN   \n",
       "1                        NaN                    NaN   \n",
       "\n",
       "   weekly_icu_admissions_per_million  weekly_hosp_admissions  \\\n",
       "0                                NaN                     NaN   \n",
       "1                                NaN                     NaN   \n",
       "\n",
       "   weekly_hosp_admissions_per_million  new_tests  total_tests  \\\n",
       "0                                 NaN        NaN          NaN   \n",
       "1                                 NaN        NaN          NaN   \n",
       "\n",
       "   total_tests_per_thousand  new_tests_per_thousand  new_tests_smoothed  \\\n",
       "0                       NaN                     NaN                 NaN   \n",
       "1                       NaN                     NaN                 NaN   \n",
       "\n",
       "   new_tests_smoothed_per_thousand  positive_rate  tests_per_case tests_units  \\\n",
       "0                              NaN            NaN             NaN         NaN   \n",
       "1                              NaN            NaN             NaN         NaN   \n",
       "\n",
       "   total_vaccinations  people_vaccinated  people_fully_vaccinated  \\\n",
       "0                 NaN                NaN                      NaN   \n",
       "1                 NaN                NaN                      NaN   \n",
       "\n",
       "   new_vaccinations  new_vaccinations_smoothed  \\\n",
       "0               NaN                        NaN   \n",
       "1               NaN                        NaN   \n",
       "\n",
       "   total_vaccinations_per_hundred  people_vaccinated_per_hundred  \\\n",
       "0                             NaN                            NaN   \n",
       "1                             NaN                            NaN   \n",
       "\n",
       "   people_fully_vaccinated_per_hundred  new_vaccinations_smoothed_per_million  \\\n",
       "0                                  NaN                                    NaN   \n",
       "1                                  NaN                                    NaN   \n",
       "\n",
       "   stringency_index  population  population_density  median_age  \\\n",
       "0              8.33    3.89e+07               54.42        18.6   \n",
       "1              8.33    3.89e+07               54.42        18.6   \n",
       "\n",
       "   aged_65_older  aged_70_older  gdp_per_capita  extreme_poverty  \\\n",
       "0           2.58           1.34         1803.99              NaN   \n",
       "1           2.58           1.34         1803.99              NaN   \n",
       "\n",
       "   cardiovasc_death_rate  diabetes_prevalence  female_smokers  male_smokers  \\\n",
       "0                 597.03                 9.59             NaN           NaN   \n",
       "1                 597.03                 9.59             NaN           NaN   \n",
       "\n",
       "   handwashing_facilities  hospital_beds_per_thousand  life_expectancy  \\\n",
       "0                   37.75                         0.5            64.83   \n",
       "1                   37.75                         0.5            64.83   \n",
       "\n",
       "   human_development_index  excess_mortality  \n",
       "0                     0.51               NaN  \n",
       "1                     0.51               NaN  "
      ]
     },
     "execution_count": 439,
     "metadata": {},
     "output_type": "execute_result"
    }
   ],
   "source": [
    "# the dataset csv file is from github user owid. The file was saved for backup purposes\n",
    "\n",
    "#dataset = pd.read_csv(\"https://covid.ourworldindata.org/data/owid-covid-data.csv\", sep=',')\n",
    "#dataset.to_csv(r\"data/covid-dataset.csv\") #25.07.2021\n",
    "dataset = pd.read_csv(r\"data/covid-dataset.csv\", sep=',')\n",
    "dataset.name =\"Dataset\"\n",
    "#dataset[\"date\"] = pd.to_datetime(dataset[\"date\"])\n",
    "#dataset = dataset.set_index([\"continent\", 'location', 'date'])\n",
    "\n",
    "pd.set_option(\"display.max.columns\", None)\n",
    "pd.set_option(\"display.precision\", 2)\n",
    "dataset.head(2)"
   ]
  },
  {
   "cell_type": "markdown",
   "metadata": {
    "id": "mIGB-a6bhC03"
   },
   "source": [
    "## 2.2 Beschreibung der Daten"
   ]
  },
  {
   "cell_type": "markdown",
   "metadata": {
    "id": "6GtKb_KIhwCc"
   },
   "source": [
    "Bei dem Datensatz handelt es sich um einen Datensatz der diverse Variablen im Zusammenhang mit der Covid-19 Pandemie weltweit und täglich abbildet. Der Datensatz beinhaltet 61 Spalten. In der folgenden Tabelle werden die Quellen der Spalten und eine kurze Beschreibung dargestellt. "
   ]
  },
  {
   "cell_type": "code",
   "execution_count": 315,
   "metadata": {},
   "outputs": [
    {
     "data": {
      "text/html": [
       "<div>\n",
       "<style scoped>\n",
       "    .dataframe tbody tr th:only-of-type {\n",
       "        vertical-align: middle;\n",
       "    }\n",
       "\n",
       "    .dataframe tbody tr th {\n",
       "        vertical-align: top;\n",
       "    }\n",
       "\n",
       "    .dataframe thead th {\n",
       "        text-align: right;\n",
       "    }\n",
       "</style>\n",
       "<table border=\"1\" class=\"dataframe\">\n",
       "  <thead>\n",
       "    <tr style=\"text-align: right;\">\n",
       "      <th></th>\n",
       "      <th>Unnamed: 0</th>\n",
       "      <th>column</th>\n",
       "      <th>source</th>\n",
       "      <th>description</th>\n",
       "    </tr>\n",
       "  </thead>\n",
       "  <tbody>\n",
       "    <tr>\n",
       "      <th>0</th>\n",
       "      <td>0</td>\n",
       "      <td>iso_code</td>\n",
       "      <td>International Organization for Standardization</td>\n",
       "      <td>ISO 3166-1 alpha-3 – three-letter country codes</td>\n",
       "    </tr>\n",
       "    <tr>\n",
       "      <th>1</th>\n",
       "      <td>1</td>\n",
       "      <td>continent</td>\n",
       "      <td>Our World in Data</td>\n",
       "      <td>Continent of the geographical location</td>\n",
       "    </tr>\n",
       "    <tr>\n",
       "      <th>2</th>\n",
       "      <td>2</td>\n",
       "      <td>location</td>\n",
       "      <td>Our World in Data</td>\n",
       "      <td>Geographical location</td>\n",
       "    </tr>\n",
       "    <tr>\n",
       "      <th>3</th>\n",
       "      <td>3</td>\n",
       "      <td>date</td>\n",
       "      <td>Our World in Data</td>\n",
       "      <td>Date of observation</td>\n",
       "    </tr>\n",
       "    <tr>\n",
       "      <th>4</th>\n",
       "      <td>4</td>\n",
       "      <td>total_cases</td>\n",
       "      <td>COVID-19 Data Repository by the Center for Sys...</td>\n",
       "      <td>Total confirmed cases of COVID-19</td>\n",
       "    </tr>\n",
       "    <tr>\n",
       "      <th>...</th>\n",
       "      <td>...</td>\n",
       "      <td>...</td>\n",
       "      <td>...</td>\n",
       "      <td>...</td>\n",
       "    </tr>\n",
       "    <tr>\n",
       "      <th>55</th>\n",
       "      <td>55</td>\n",
       "      <td>handwashing_facilities</td>\n",
       "      <td>United Nations Statistics Division</td>\n",
       "      <td>Share of the population with basic handwashing...</td>\n",
       "    </tr>\n",
       "    <tr>\n",
       "      <th>56</th>\n",
       "      <td>56</td>\n",
       "      <td>hospital_beds_per_thousand</td>\n",
       "      <td>OECD, Eurostat, World Bank, national governmen...</td>\n",
       "      <td>Hospital beds per 1,000 people, most recent ye...</td>\n",
       "    </tr>\n",
       "    <tr>\n",
       "      <th>57</th>\n",
       "      <td>57</td>\n",
       "      <td>life_expectancy</td>\n",
       "      <td>James C. Riley, Clio Infra, United Nations Pop...</td>\n",
       "      <td>Life expectancy at birth in 2019</td>\n",
       "    </tr>\n",
       "    <tr>\n",
       "      <th>58</th>\n",
       "      <td>58</td>\n",
       "      <td>human_development_index</td>\n",
       "      <td>United Nations Development Programme (UNDP)</td>\n",
       "      <td>A composite index measuring average achievemen...</td>\n",
       "    </tr>\n",
       "    <tr>\n",
       "      <th>59</th>\n",
       "      <td>59</td>\n",
       "      <td>excess_mortality</td>\n",
       "      <td>Human Mortality Database (HMD) Short-term Mort...</td>\n",
       "      <td>Excess mortality P-scores for all ages; see ht...</td>\n",
       "    </tr>\n",
       "  </tbody>\n",
       "</table>\n",
       "<p>60 rows × 4 columns</p>\n",
       "</div>"
      ],
      "text/plain": [
       "    Unnamed: 0                      column  \\\n",
       "0            0                    iso_code   \n",
       "1            1                   continent   \n",
       "2            2                    location   \n",
       "3            3                        date   \n",
       "4            4                 total_cases   \n",
       "..         ...                         ...   \n",
       "55          55      handwashing_facilities   \n",
       "56          56  hospital_beds_per_thousand   \n",
       "57          57             life_expectancy   \n",
       "58          58     human_development_index   \n",
       "59          59            excess_mortality   \n",
       "\n",
       "                                               source  \\\n",
       "0      International Organization for Standardization   \n",
       "1                                   Our World in Data   \n",
       "2                                   Our World in Data   \n",
       "3                                   Our World in Data   \n",
       "4   COVID-19 Data Repository by the Center for Sys...   \n",
       "..                                                ...   \n",
       "55                 United Nations Statistics Division   \n",
       "56  OECD, Eurostat, World Bank, national governmen...   \n",
       "57  James C. Riley, Clio Infra, United Nations Pop...   \n",
       "58        United Nations Development Programme (UNDP)   \n",
       "59  Human Mortality Database (HMD) Short-term Mort...   \n",
       "\n",
       "                                          description  \n",
       "0     ISO 3166-1 alpha-3 – three-letter country codes  \n",
       "1              Continent of the geographical location  \n",
       "2                               Geographical location  \n",
       "3                                 Date of observation  \n",
       "4                   Total confirmed cases of COVID-19  \n",
       "..                                                ...  \n",
       "55  Share of the population with basic handwashing...  \n",
       "56  Hospital beds per 1,000 people, most recent ye...  \n",
       "57                   Life expectancy at birth in 2019  \n",
       "58  A composite index measuring average achievemen...  \n",
       "59  Excess mortality P-scores for all ages; see ht...  \n",
       "\n",
       "[60 rows x 4 columns]"
      ]
     },
     "execution_count": 315,
     "metadata": {},
     "output_type": "execute_result"
    }
   ],
   "source": [
    "# the description csv file is from github user owid. The file was saved for backup purposes\n",
    "#description = pd.read_csv(\"https://raw.githubusercontent.com/owid/covid-19-data/master/public/data/owid-covid-codebook.csv\", sep=',')\n",
    "#description.to_csv(r\"data/covid-dataset_column-description.csv\") #25.07.2021\n",
    "pd.options.display.max_rows = 10\n",
    "pd.read_csv(r\"data/covid-dataset_column-description.csv\")"
   ]
  },
  {
   "cell_type": "markdown",
   "metadata": {},
   "source": [
    "Im folgenden wird untersucht welche Datentypen vertreten sind. Es sind überwiegend numerische Werte"
   ]
  },
  {
   "cell_type": "markdown",
   "metadata": {},
   "source": [
    "## 2.2 Daten Überblick\n",
    "Überblick über die Daten; interaktive Darstellung"
   ]
  },
  {
   "cell_type": "code",
   "execution_count": 474,
   "metadata": {},
   "outputs": [
    {
     "data": {
      "application/vnd.jupyter.widget-view+json": {
       "model_id": "2e549519da8041628d47d6d0dee1e379",
       "version_major": 2,
       "version_minor": 0
      },
      "text/plain": [
       "interactive(children=(Dropdown(description='column', options=('total_cases', 'new_cases', 'new_cases_smoothed'…"
      ]
     },
     "metadata": {},
     "output_type": "display_data"
    },
    {
     "data": {
      "text/plain": [
       "<function __main__.f(column, day)>"
      ]
     },
     "execution_count": 474,
     "metadata": {},
     "output_type": "execute_result"
    }
   ],
   "source": [
    "def create_map(dataset, column, date):\n",
    "    #date = \"2021-06-24\" #dataset[\"date\"].values[-1] #\"2021-06-24\" \n",
    "    dataset = dataset[dataset[\"date\"] == date]\n",
    "    dataset.drop(columns=[\"date\"])\n",
    "    world = geopandas.read_file(geopandas.datasets.get_path(\"naturalearth_lowres\"))\n",
    "    merged_dataset = world.merge(dataset, how=\"left\", left_on = [\"iso_a3\"], right_on = [\"iso_code\"])\n",
    "    \n",
    "    world_map = folium.Map()\n",
    "    folium.Choropleth(\n",
    "        geo_data=merged_dataset,\n",
    "        name=\"choropleth\",\n",
    "        data=merged_dataset,\n",
    "        columns=[\"iso_a3\",column],\n",
    "        key_on=\"feature.properties.iso_a3\",\n",
    "        fill_color=\"YlGn\",\n",
    "        fill_opacity=0.8,\n",
    "        line_opacity=1,\n",
    "        nan_fill_color=\"grey\",\n",
    "        nan_fill_opacity=0.4,\n",
    "        legend_name=column,\n",
    "    ).add_to(world_map)\n",
    "    return world_map\n",
    "\n",
    "def f(column, day):\n",
    "    \n",
    "    dataset.sort_values(by = 'date', inplace=True)\n",
    "    dates = dataset[\"date\"].unique().astype(str).tolist()\n",
    "\n",
    "    dates.sort\n",
    "    dates_dict = {}\n",
    "\n",
    "    for i in range(0, len(dates)):\n",
    "        dates_dict[i] = dates[i]\n",
    "    \n",
    "    df=dataset\n",
    "    #df[\"passed_days\"] = df[\"passed_days\"].astype(str)\n",
    "    date = dates_dict[day]\n",
    "    return create_map(dataset, column, date)\n",
    "    \n",
    "\n",
    "del_columns = [\"Unnamed: 0\", \"iso_code\", \"continent\", \"location\", \"date\"]\n",
    "columns = dataset.columns.tolist()\n",
    "dates = dataset[\"date\"].unique().astype(str).tolist()\n",
    "\n",
    "for del_column in del_columns:\n",
    "    columns.remove(del_column)\n",
    "\n",
    "interact(f, column=columns, day = widgets.IntSlider(min=0, max=len(dates)-1, step=1, value=len(dates)-1))"
   ]
  },
  {
   "cell_type": "code",
   "execution_count": 301,
   "metadata": {},
   "outputs": [
    {
     "data": {
      "application/vnd.jupyter.widget-view+json": {
       "model_id": "f0b311aa49db4f7f9389bc1a21ccfc7e",
       "version_major": 2,
       "version_minor": 0
      },
      "text/plain": [
       "interactive(children=(Dropdown(description='location', options=('Germany', 'China', 'India', 'Israel', 'Brazil…"
      ]
     },
     "metadata": {},
     "output_type": "display_data"
    }
   ],
   "source": [
    "def interactive_plot(df):\n",
    "    dataset=df\n",
    "    def plot(location, column):\n",
    "        dataset = df\n",
    "        dataset[\"date\"] = pd.to_datetime(dataset[\"date\"])\n",
    "        dataset = dataset[dataset[\"location\"]==location]\n",
    "        fig, ax = plt.subplots(figsize=(20,10))\n",
    "        plt.title(\"{} in {}\".format(column, location))\n",
    "        sns.lineplot(x=\"date\", y=column, data=dataset)\n",
    "        \n",
    "        #dataset[\"date\"] = pd.to_datetime(dataset[\"date\"])\n",
    "        \n",
    "        ax.xaxis.set_major_locator(mdates.AutoDateLocator())\n",
    "        ax.xaxis.set_major_formatter(mdates.DateFormatter('%d.%m.%Y')) #'%Y.%m.%d %H:%M:%S'\n",
    "\n",
    "        # put the labels at 45deg since they tend to be too long\n",
    "        fig.autofmt_xdate()\n",
    "    \n",
    "    countries_of_interest = [\n",
    "        \"Germany\",\n",
    "        \"China\",\n",
    "        \"India\",\n",
    "        \"Israel\",\n",
    "        \"Brazil\",\n",
    "        \"United Kingdom\",\n",
    "        \"Italy\",\n",
    "        \"United States\",\n",
    "        \"South Africa\"\n",
    "    ]\n",
    "    \n",
    "    for location in dataset[\"location\"].unique().tolist():\n",
    "        if location not in countries_of_interest:\n",
    "            countries_of_interest.append(location)\n",
    "            \n",
    "            \n",
    "    locations=countries_of_interest#dataset[\"location\"].unique().tolist()\n",
    "    \n",
    "    del_columns = [\"iso_code\", \"continent\", \"location\", \"date\", \"passed_days\"]\n",
    "    columns = dataset.columns.tolist()\n",
    "\n",
    "    #for del_column in del_columns:\n",
    "    #    columns.remove(del_column)\n",
    "    \n",
    "    interact(plot, location=locations, column=columns)\n",
    "\n",
    "interactive_plot(dataset)"
   ]
  },
  {
   "cell_type": "markdown",
   "metadata": {
    "id": "RLaohBCmhpXw"
   },
   "source": [
    "# 3. Data Preperation"
   ]
  },
  {
   "cell_type": "markdown",
   "metadata": {},
   "source": [
    "## 3.1 Auswahl der relevanten Daten und Länder\n",
    "\n",
    "Aus dem Datensatz werden vorerst die relevanten Daten ausgewählt. Relevante Daten sind unteranderem:\n",
    "\n",
    "    - kumulierte Impf-, Fall- und Todeszahlen pro eine Millionen Einwohner\n",
    "    - mittlere Reproduktionszahl\n",
    "    - Brutto-Inlandsprodukt\n",
    "    - Maßnahmen (\"Stringency Index\")\n",
    "    - Anzahl Krankehausbetten pro Einwohner\n",
    "\n",
    "Desweiteren wird die Korrelation der Variabeln betrachtet. Zur Vermeidung von Multikollinearität werden Variabeln mit hoher Korrelation zusammengefasst oder rausgeschmissen. Dies kann am Beispiel des Index der menschlichen Entwicklung (Human Development Index) kurz HDI erläutert werden. Der Indix setzt sich aus drei Dimensionen zusammen die aus vorhandenen Spalten abgebildet werden.\n",
    "1. Lebenserwartungsindex -> life_expectancy / median_age\n",
    "2. Bildungsindex\n",
    "3. Einkommensindex -> gdp_per_capita\n",
    "\n",
    "Die Auswahl der Daten ist ein sehr iterativer Prozess."
   ]
  },
  {
   "cell_type": "code",
   "execution_count": 469,
   "metadata": {},
   "outputs": [
    {
     "name": "stdout",
     "output_type": "stream",
     "text": [
      "von ursprünglich 61 Spalten bleiben noch 9 Spalten\n"
     ]
    },
    {
     "data": {
      "text/html": [
       "<div>\n",
       "<style scoped>\n",
       "    .dataframe tbody tr th:only-of-type {\n",
       "        vertical-align: middle;\n",
       "    }\n",
       "\n",
       "    .dataframe tbody tr th {\n",
       "        vertical-align: top;\n",
       "    }\n",
       "\n",
       "    .dataframe thead th {\n",
       "        text-align: right;\n",
       "    }\n",
       "</style>\n",
       "<table border=\"1\" class=\"dataframe\">\n",
       "  <thead>\n",
       "    <tr style=\"text-align: right;\">\n",
       "      <th></th>\n",
       "      <th>iso_code</th>\n",
       "      <th>continent</th>\n",
       "      <th>location</th>\n",
       "      <th>date</th>\n",
       "      <th>total_cases_per_million</th>\n",
       "      <th>total_deaths_per_million</th>\n",
       "      <th>new_deaths_per_million</th>\n",
       "      <th>hospital_beds_per_thousand</th>\n",
       "      <th>human_development_index</th>\n",
       "    </tr>\n",
       "  </thead>\n",
       "  <tbody>\n",
       "    <tr>\n",
       "      <th>3748</th>\n",
       "      <td>ARG</td>\n",
       "      <td>South America</td>\n",
       "      <td>Argentina</td>\n",
       "      <td>2020-01-01</td>\n",
       "      <td>NaN</td>\n",
       "      <td>NaN</td>\n",
       "      <td>NaN</td>\n",
       "      <td>5.0</td>\n",
       "      <td>0.84</td>\n",
       "    </tr>\n",
       "    <tr>\n",
       "      <th>74601</th>\n",
       "      <td>PER</td>\n",
       "      <td>South America</td>\n",
       "      <td>Peru</td>\n",
       "      <td>2020-01-01</td>\n",
       "      <td>NaN</td>\n",
       "      <td>NaN</td>\n",
       "      <td>NaN</td>\n",
       "      <td>1.6</td>\n",
       "      <td>0.78</td>\n",
       "    </tr>\n",
       "  </tbody>\n",
       "</table>\n",
       "</div>"
      ],
      "text/plain": [
       "      iso_code      continent   location        date  total_cases_per_million  \\\n",
       "3748       ARG  South America  Argentina  2020-01-01                      NaN   \n",
       "74601      PER  South America       Peru  2020-01-01                      NaN   \n",
       "\n",
       "       total_deaths_per_million  new_deaths_per_million  \\\n",
       "3748                        NaN                     NaN   \n",
       "74601                       NaN                     NaN   \n",
       "\n",
       "       hospital_beds_per_thousand  human_development_index  \n",
       "3748                          5.0                     0.84  \n",
       "74601                         1.6                     0.78  "
      ]
     },
     "execution_count": 469,
     "metadata": {},
     "output_type": "execute_result"
    }
   ],
   "source": [
    "columns_of_interest = [\n",
    "    'iso_code',\n",
    "    'date',\n",
    "    'location',\n",
    "    'continent',\n",
    "    'total_cases_per_million',\n",
    "    'total_deaths_per_million',\n",
    "    #\"new_cases_per_million\",\n",
    "    \"new_deaths_per_million\",\n",
    "    #'reproduction_rate', # geringe Korrelation\n",
    "    #'people_fully_vaccinated_per_hundred', # geringe Korrelation\n",
    "    #'stringency_index', # geringe Korrelation\n",
    "    #'population_density', # geringe Korrelation\n",
    "    #'median_age', # hohe Korrelation/ähnlicher Informationsgehalt mit HDI\n",
    "    #'gdp_per_capita', # hohe Korrelation/ähnlicher Informationsgehalt mit HDI\n",
    "    #'life_expectancy', # hohe Korrelation/ähnlicher Informationsgehalt mit HDI\n",
    "    \"hospital_beds_per_thousand\",\n",
    "    'human_development_index',   \n",
    "]\n",
    "\n",
    "cleaned_dataset = dataset.drop(dataset.columns.difference(columns_of_interest), 1)\n",
    "\n",
    "print(\"von ursprünglich {} Spalten bleiben noch {} Spalten\".format(len(dataset.columns.tolist()), len(columns_of_interest)))\n",
    "cleaned_dataset.head(2)"
   ]
  },
  {
   "cell_type": "markdown",
   "metadata": {},
   "source": [
    "Ähnliche Variabeln mit hoher Korrelation werden gelöscht -> ähnlicher Informationsgehalt; so simpel wie möglich\n",
    "- r = 0.1 für eine geringe Korrelation\n",
    "- r = 0.3 für eine mittlere Korrelation\n",
    "- r = 0.5 für eine hohe Korrelation\n",
    "\n",
    "Quelle: http://www.methoden-psychologie.de/wertebereich_korrelationen.html"
   ]
  },
  {
   "cell_type": "code",
   "execution_count": 470,
   "metadata": {},
   "outputs": [
    {
     "data": {
      "text/plain": [
       "total_cases_per_million   total_deaths_per_million      0.8\n",
       "human_development_index   hospital_beds_per_thousand    0.6\n",
       "total_deaths_per_million  new_deaths_per_million        0.4\n",
       "total_cases_per_million   human_development_index       0.4\n",
       "total_deaths_per_million  human_development_index       0.3\n",
       "total_cases_per_million   new_deaths_per_million        0.3\n",
       "dtype: float64"
      ]
     },
     "execution_count": 470,
     "metadata": {},
     "output_type": "execute_result"
    },
    {
     "data": {
      "image/png": "[encoded data removed]",
      "text/plain": [
       "<Figure size 1440x720 with 2 Axes>"
      ]
     },
     "metadata": {
      "needs_background": "light"
     },
     "output_type": "display_data"
    }
   ],
   "source": [
    "corr = cleaned_dataset.corr()\n",
    "#corr = corr[abs(corr)>0.3]\n",
    "fig, ax = plt.subplots(figsize=(20,10))\n",
    "sns.heatmap(corr, annot=True, linewidths=.5, cmap=sns.color_palette(\"Blues\", as_cmap=True))\n",
    "\n",
    "sorted_corr = corr.unstack().sort_values(ascending=False).drop_duplicates()\n",
    "sorted_corr = sorted_corr[sorted_corr != 1].round(1)\n",
    "sorted_corr = sorted_corr[abs(sorted_corr) >= 0.3]\n",
    "sorted_corr"
   ]
  },
  {
   "cell_type": "markdown",
   "metadata": {},
   "source": [
    "## 3.2 Prüfen und Verbessern der Datenqualität\n",
    "\n",
    "Für spätere Untersuchungen und Modelle ist eine qualitativ gut Datenbasis notwendig. Aus diesem Grund wird im folgenden die Datenqualität geprüft und der Umgang mit fehlenden Werten behandelt.\n",
    "\n",
    "Es gibt verschiedene Gründe für fehlende Werte:\n",
    "\n",
    "- Daten werden im Land nicht gemessen oder sind nicht verfügbar\n",
    "    - In einigen Ländern ist eine schlechtere Dateninfrastruktur vorhanden\n",
    "    - Umgang: Land nicht betrachten\n",
    "    \n",
    "\n",
    "- Daten waren zum Zeitpunkt noch nicht verfügbar\n",
    "    - Impfstoffe mussten erst entwickelt werden, deswegen sind zum Beginn der Pandemie keine Werte angegeben\n",
    "    - Umgang: Fehlende Werte durch sinnvolle Werte ersetzen. Bspw: Anzahl Impfungen bis zur ersten Impfung durch \"0\" ersetzen\n",
    "\n",
    "Wichtig ist auf die Korrelation zur Zielvariabel und auf Variablen mit hohem Informationsgehalt zu achten. Fraglich ist auch ob Werte aufgrund der Wirtschaftlichen Lage eines Landes fehlen.\n",
    "\n",
    "Es werden folgende Regeln aufgestellt: ??? noch angewendet?\n",
    "- Anteil fehlender Werte in Spalte > 30-40 % -> Spalte löschen\n",
    "- Anteil fehlender Werte in Zeile > 20 % -> Zeile löschen\n",
    "\n"
   ]
  },
  {
   "cell_type": "markdown",
   "metadata": {},
   "source": [
    "**In welchen Spalten fehlen Werte?**"
   ]
  },
  {
   "cell_type": "code",
   "execution_count": 453,
   "metadata": {},
   "outputs": [
    {
     "data": {
      "text/plain": [
       "iso_code                                0.00\n",
       "continent                               4.65\n",
       "location                                0.00\n",
       "date                                    0.00\n",
       "total_cases_per_million                 4.51\n",
       "total_deaths_per_million               14.32\n",
       "new_deaths_per_million                 14.18\n",
       "people_fully_vaccinated_per_hundred    85.27\n",
       "hospital_beds_per_thousand             18.56\n",
       "human_development_index                10.44\n",
       "dtype: float64"
      ]
     },
     "execution_count": 453,
     "metadata": {},
     "output_type": "execute_result"
    }
   ],
   "source": [
    "#cleaned_dataset = filtered_dataset\n",
    "100*cleaned_dataset.isna().sum()/cleaned_dataset.isna().count()"
   ]
  },
  {
   "cell_type": "markdown",
   "metadata": {},
   "source": [
    "In der Spalte \"people_fully_vaccinated_per_hundred\" fehlen 85 %  der Werte. Wie bereits beschrieben, fehlen die Werte vermutlich aufgrund der späten Einführung von Impfstoffen. Aus diesem Grund werden die fehlenden Werte durch \"0\" ersetzt."
   ]
  },
  {
   "cell_type": "code",
   "execution_count": 454,
   "metadata": {
    "scrolled": true
   },
   "outputs": [
    {
     "name": "stdout",
     "output_type": "stream",
     "text": [
      "In der Spalte people_fully_vaccinated_per_hundred wurden die fehlenden Werte von 89369 auf 0 reduziert\n",
      "In der Spalte total_deaths_per_million wurden die fehlenden Werte von 15011 auf 0 reduziert\n",
      "In der Spalte total_cases_per_million wurden die fehlenden Werte von 4731 auf 0 reduziert\n"
     ]
    }
   ],
   "source": [
    "# Impfdaten waren zum Beginn der Pandemie noch nicht vorhanden\n",
    "\n",
    "cols_to_fill = [\n",
    "    \"people_fully_vaccinated_per_hundred\", \"total_deaths_per_million\", \"total_cases_per_million\"]\n",
    "\n",
    "def fill_nan_values(series):\n",
    "    nr = cleaned_dataset[series].isna().sum()\n",
    "    cleaned_dataset[series].backfill(0, inplace = True)\n",
    "    cleaned_dataset[series].interpolate(inplace = True)\n",
    "    print(\"In der Spalte {} wurden die fehlenden Werte von {} auf {} reduziert\".format(series, nr, cleaned_dataset[series].isna().sum()))\n",
    "\n",
    "for column in cols_to_fill:\n",
    "    fill_nan_values(column)\n",
    "\n",
    "# continents has been tracked as countries \n",
    "continent_list = cleaned_dataset[cleaned_dataset[\"continent\"].isna() == True].index.get_level_values(0).unique().tolist()\n",
    "cleaned_dataset.drop(continent_list, inplace = True)"
   ]
  },
  {
   "cell_type": "markdown",
   "metadata": {},
   "source": [
    "**In welchen Ländern fehlen Werte?**"
   ]
  },
  {
   "cell_type": "code",
   "execution_count": 455,
   "metadata": {},
   "outputs": [
    {
     "name": "stdout",
     "output_type": "stream",
     "text": [
      "Es werden noch 166 von ursprünglich 222 Ländern betrachtet\n"
     ]
    },
    {
     "data": {
      "image/png": "[encoded data removed]",
      "text/plain": [
       "<Figure size 1440x720 with 1 Axes>"
      ]
     },
     "metadata": {
      "needs_background": "light"
     },
     "output_type": "display_data"
    }
   ],
   "source": [
    "def continent_from_location(location):\n",
    "    return list(dict.fromkeys(cleaned_dataset[cleaned_dataset[\"location\"] == location][\"continent\"].values.tolist()))[0]\n",
    "\n",
    "def get_locations():\n",
    "    return list(dict.fromkeys(cleaned_dataset[\"location\"].values.tolist()))\n",
    "\n",
    "def get_missing_values(location):\n",
    "    missing_values = cleaned_dataset[cleaned_dataset[\"location\"] == location].isna().sum()\n",
    "    values = cleaned_dataset[cleaned_dataset[\"location\"] == location].isna().count()\n",
    "\n",
    "    return (missing_values/values).sum()\n",
    "\n",
    "locations_continent_dic = {}\n",
    "\n",
    "for location in get_locations():\n",
    "    locations_continent_dic[location] = (continent_from_location(location),get_missing_values(location))\n",
    "\n",
    "missing_values_df = pd.DataFrame(data=locations_continent_dic).T.rename(columns={0: \"continent\", 1: \"missing_values_%\"})\n",
    "missing_values_df.sort_values(by=\"missing_values_%\", inplace=True)\n",
    "\n",
    "# plot missing values by continent\n",
    "fig, ax = plt.subplots(figsize=(20,10))\n",
    "plt.title((\"missing values in % by continent\"))\n",
    "sns.boxplot(x=\"continent\", y=\"missing_values_%\", data=missing_values_df)\n",
    "\n",
    "missing_values_df = missing_values_df[missing_values_df[\"missing_values_%\"]<=1]\n",
    "\n",
    "countries = missing_values_df.index\n",
    "\n",
    "countries_cleaned_dataset = cleaned_dataset[cleaned_dataset[\"location\"].isin(countries)] \n",
    "\n",
    "print(\"Es werden noch {} von ursprünglich {} Ländern betrachtet\".format(len(missing_values_df), len(get_locations())))\n",
    "\n",
    "#missing_values_df.head()\n",
    "\n"
   ]
  },
  {
   "cell_type": "markdown",
   "metadata": {},
   "source": [
    "**Wann fehlen Werte?**"
   ]
  },
  {
   "cell_type": "markdown",
   "metadata": {},
   "source": [
    "Datenlage zu beginn der Pandemie schlecht\n",
    "\n",
    "Juli 2021 Datenlage wird schlechter"
   ]
  },
  {
   "cell_type": "code",
   "execution_count": 456,
   "metadata": {},
   "outputs": [
    {
     "data": {
      "text/html": [
       "<div>\n",
       "<style scoped>\n",
       "    .dataframe tbody tr th:only-of-type {\n",
       "        vertical-align: middle;\n",
       "    }\n",
       "\n",
       "    .dataframe tbody tr th {\n",
       "        vertical-align: top;\n",
       "    }\n",
       "\n",
       "    .dataframe thead th {\n",
       "        text-align: right;\n",
       "    }\n",
       "</style>\n",
       "<table border=\"1\" class=\"dataframe\">\n",
       "  <thead>\n",
       "    <tr style=\"text-align: right;\">\n",
       "      <th></th>\n",
       "      <th>iso_code</th>\n",
       "      <th>continent</th>\n",
       "      <th>location</th>\n",
       "      <th>total_cases_per_million</th>\n",
       "      <th>total_deaths_per_million</th>\n",
       "      <th>new_deaths_per_million</th>\n",
       "      <th>people_fully_vaccinated_per_hundred</th>\n",
       "      <th>hospital_beds_per_thousand</th>\n",
       "      <th>human_development_index</th>\n",
       "    </tr>\n",
       "    <tr>\n",
       "      <th>date</th>\n",
       "      <th></th>\n",
       "      <th></th>\n",
       "      <th></th>\n",
       "      <th></th>\n",
       "      <th></th>\n",
       "      <th></th>\n",
       "      <th></th>\n",
       "      <th></th>\n",
       "      <th></th>\n",
       "    </tr>\n",
       "  </thead>\n",
       "  <tbody>\n",
       "    <tr>\n",
       "      <th>2021-07-23</th>\n",
       "      <td>0</td>\n",
       "      <td>0</td>\n",
       "      <td>0</td>\n",
       "      <td>0</td>\n",
       "      <td>0</td>\n",
       "      <td>4</td>\n",
       "      <td>0</td>\n",
       "      <td>0</td>\n",
       "      <td>0</td>\n",
       "    </tr>\n",
       "    <tr>\n",
       "      <th>2021-07-24</th>\n",
       "      <td>0</td>\n",
       "      <td>0</td>\n",
       "      <td>0</td>\n",
       "      <td>0</td>\n",
       "      <td>0</td>\n",
       "      <td>4</td>\n",
       "      <td>0</td>\n",
       "      <td>0</td>\n",
       "      <td>0</td>\n",
       "    </tr>\n",
       "  </tbody>\n",
       "</table>\n",
       "</div>"
      ],
      "text/plain": [
       "            iso_code  continent  location  total_cases_per_million  \\\n",
       "date                                                                 \n",
       "2021-07-23         0          0         0                        0   \n",
       "2021-07-24         0          0         0                        0   \n",
       "\n",
       "            total_deaths_per_million  new_deaths_per_million  \\\n",
       "date                                                           \n",
       "2021-07-23                         0                       4   \n",
       "2021-07-24                         0                       4   \n",
       "\n",
       "            people_fully_vaccinated_per_hundred  hospital_beds_per_thousand  \\\n",
       "date                                                                          \n",
       "2021-07-23                                    0                           0   \n",
       "2021-07-24                                    0                           0   \n",
       "\n",
       "            human_development_index  \n",
       "date                                 \n",
       "2021-07-23                        0  \n",
       "2021-07-24                        0  "
      ]
     },
     "execution_count": 456,
     "metadata": {},
     "output_type": "execute_result"
    },
    {
     "data": {
      "image/png": "[encoded data removed]",
      "text/plain": [
       "<Figure size 1440x720 with 1 Axes>"
      ]
     },
     "metadata": {
      "needs_background": "light"
     },
     "output_type": "display_data"
    }
   ],
   "source": [
    "missing_values_by_date = countries_cleaned_dataset.set_index('date').isna().sum(level=0)\n",
    "missing_values_by_date.drop([\"continent\", \"location\"],axis=1).plot(\n",
    "    figsize=(20,10),\n",
    "    title = \"missing values by date\",\n",
    "    xlabel=\"date\",\n",
    "    ylabel=\"missing values\",\n",
    "\n",
    ")\n",
    "\n",
    "start = \"2020-06-01\"\n",
    "end = \"2021-07-01\"\n",
    "\n",
    "date_cleaned_dataset = countries_cleaned_dataset[countries_cleaned_dataset[\"date\"] <= end]\n",
    "date_cleaned_dataset = date_cleaned_dataset[date_cleaned_dataset[\"date\"] >= start]\n",
    "\n",
    "#plt.fill_betweenx(x1=start, x2=end, y= \"120\",color=\"g\")\n",
    "\n",
    "missing_values_by_date.sort_index().tail(2)"
   ]
  },
  {
   "cell_type": "markdown",
   "metadata": {},
   "source": [
    "Abschließend werden die restlichen Zeilen mit fehlenden Werte gelöscht"
   ]
  },
  {
   "cell_type": "code",
   "execution_count": 457,
   "metadata": {},
   "outputs": [],
   "source": [
    "date_cleaned_dataset = date_cleaned_dataset.dropna()"
   ]
  },
  {
   "cell_type": "markdown",
   "metadata": {},
   "source": [
    "## 3.3 Feature Engineering - Kennzahlen"
   ]
  },
  {
   "cell_type": "markdown",
   "metadata": {},
   "source": [
    "Index der menschlichen Entwicklung:\"human_development_index\"\n",
    "\n",
    "mortality: 'total_deaths_per_million' / 'total_cases_per_million'\n",
    "\n",
    "Impfrate: 'people_fully_vaccinated_per_hundred'\n",
    "\n",
    "Vergangene Tage: \"passed_days\""
   ]
  },
  {
   "cell_type": "code",
   "execution_count": 458,
   "metadata": {},
   "outputs": [],
   "source": [
    "final_dataset = date_cleaned_dataset\n",
    "\n",
    "final_dataset[\"mortality\"] = date_cleaned_dataset['total_deaths_per_million'] / date_cleaned_dataset['total_cases_per_million']\n",
    "final_dataset[\"people_fully_vaccinated_per_thousand\"] = date_cleaned_dataset['people_fully_vaccinated_per_hundred']*10\n",
    "\n",
    "final_dataset[\"date\"] = pd.to_datetime(final_dataset[\"date\"])\n",
    "final_dataset[\"passed_days\"] = final_dataset[\"date\"]-final_dataset[\"date\"].min()\n",
    "final_dataset[\"passed_days\"] = final_dataset[\"passed_days\"].astype(str).str.replace(\" days\", \"\").astype(int)\n",
    "\n",
    "columns_to_delete = [\n",
    "    \"people_fully_vaccinated_per_hundred\",\n",
    "    \"total_deaths_per_million\",\n",
    "    \"total_cases_per_million\",\n",
    "\n",
    "]\n",
    "final_dataset = final_dataset.drop(columns_to_delete, 1)\n",
    "final_dataset_grouped = final_dataset.groupby(\"location\").mean()\n",
    "#final_dataset.head()"
   ]
  },
  {
   "cell_type": "code",
   "execution_count": 471,
   "metadata": {},
   "outputs": [
    {
     "name": "stdout",
     "output_type": "stream",
     "text": [
      "highest correlations:\n",
      "people_fully_vaccinated_per_thousand  passed_days                   0.6\n",
      "human_development_index               hospital_beds_per_thousand    0.6\n",
      "                                      new_deaths_per_million        0.4\n",
      "new_deaths_per_million                hospital_beds_per_thousand    0.3\n",
      "dtype: float64\n"
     ]
    },
    {
     "data": {
      "image/png": "[encoded data removed]",
      "text/plain": [
       "<Figure size 1080x1080 with 27 Axes>"
      ]
     },
     "metadata": {
      "needs_background": "light"
     },
     "output_type": "display_data"
    }
   ],
   "source": [
    "g = sns.pairplot(\n",
    "    final_dataset_grouped, \n",
    "    corner =True, \n",
    "    diag_kind=\"kde\", \n",
    "    kind=\"reg\",\n",
    "    #hue=\"continent\",\n",
    "    #palette=sns.color_palette(\"Set2\")\n",
    ")\n",
    "#g.map_lower(sns.kdeplot, levels=4, color=\".2\")\n",
    "corr = final_dataset_grouped.corr()\n",
    "\n",
    "sorted_corr = corr.unstack().sort_values(ascending=False).drop_duplicates()\n",
    "sorted_corr = sorted_corr[sorted_corr != 1].round(1)\n",
    "sorted_corr = sorted_corr[abs(sorted_corr) >= 0.3]\n",
    "print(\"highest correlations:\")\n",
    "print(sorted_corr)"
   ]
  },
  {
   "cell_type": "markdown",
   "metadata": {},
   "source": [
    "# 4. Modelling"
   ]
  },
  {
   "cell_type": "markdown",
   "metadata": {},
   "source": [
    "## 4.1 Daten Analyse\n",
    "- Auswahl repräsentativer Länder nach\n",
    "    - beste Datenlage\n",
    "    - höchste Fall/Todeszahlen\n",
    "    - Weltweit (verschiedene Kontinente)"
   ]
  },
  {
   "cell_type": "code",
   "execution_count": 475,
   "metadata": {},
   "outputs": [
    {
     "data": {
      "application/vnd.jupyter.widget-view+json": {
       "model_id": "a98aa074082c47b19020dafb7041ef3e",
       "version_major": 2,
       "version_minor": 0
      },
      "text/plain": [
       "interactive(children=(Dropdown(description='column', options=('new_deaths_per_million', 'hospital_beds_per_tho…"
      ]
     },
     "metadata": {},
     "output_type": "display_data"
    },
    {
     "data": {
      "text/plain": [
       "<function __main__.f(column)>"
      ]
     },
     "execution_count": 475,
     "metadata": {},
     "output_type": "execute_result"
    }
   ],
   "source": [
    "def create_map(dataset, column):\n",
    "    date = dataset[\"date\"].values[-1] #\"2021-06-24\" \n",
    "    dataset = dataset[dataset[\"date\"] == date]\n",
    "    world = geopandas.read_file(geopandas.datasets.get_path(\"naturalearth_lowres\"))\n",
    "    merged_dataset = world.merge(dataset, how=\"left\", left_on = [\"iso_a3\"], right_on = [\"iso_code\"])\n",
    "    \n",
    "    world_map_2 = folium.Map()\n",
    "    folium.Choropleth(\n",
    "        geo_data=merged_dataset,\n",
    "        name=\"choropleth\",\n",
    "        data=merged_dataset,\n",
    "        columns=[\"iso_a3\",column],\n",
    "        key_on=\"feature.properties.iso_a3\",\n",
    "        fill_color=\"YlGn\",\n",
    "        fill_opacity=0.8,\n",
    "        line_opacity=1,\n",
    "        nan_fill_color=\"grey\",\n",
    "        nan_fill_opacity=0.4,\n",
    "        legend_name=column,\n",
    "    ).add_to(world_map_2)\n",
    "    \n",
    "    #world_map.save(str(column, \"_\", date, \"_map.html\"))\n",
    "    return world_map_2\n",
    "\n",
    "def f(column):\n",
    "    df=final_dataset\n",
    "    df[\"passed_days\"] = df[\"passed_days\"].astype(str)\n",
    "    df[\"date\"] = df[\"date\"].astype(str)\n",
    "    return create_map(final_dataset, column)\n",
    "    \n",
    "\n",
    "del_columns = [\"iso_code\", \"continent\", \"location\", \"date\", \"passed_days\"]\n",
    "columns = final_dataset.columns.tolist()\n",
    "\n",
    "for del_column in del_columns:\n",
    "    columns.remove(del_column)\n",
    "\n",
    "interact(f, column=columns)\n",
    "\n",
    "## Datum ergänzen"
   ]
  },
  {
   "cell_type": "code",
   "execution_count": 401,
   "metadata": {},
   "outputs": [
    {
     "data": {
      "application/vnd.jupyter.widget-view+json": {
       "model_id": "af91fe41fa444a92a29beff03be4ee00",
       "version_major": 2,
       "version_minor": 0
      },
      "text/plain": [
       "interactive(children=(Dropdown(description='location', options=('Germany', 'China', 'India', 'Israel', 'Brazil…"
      ]
     },
     "metadata": {},
     "output_type": "display_data"
    }
   ],
   "source": [
    "def interactive_plot(df):\n",
    "    dataset=df\n",
    "    def plot(location, column):\n",
    "        dataset = df\n",
    "        dataset[\"date\"] = pd.to_datetime(dataset[\"date\"])\n",
    "        dataset = dataset[dataset[\"location\"]==location]\n",
    "        fig, ax = plt.subplots(figsize=(20,10))\n",
    "        plt.title(\"{} in {}\".format(column, location))\n",
    "        sns.lineplot(x=\"date\", y=column, data=dataset)\n",
    "        \n",
    "        #dataset[\"date\"] = pd.to_datetime(dataset[\"date\"])\n",
    "        \n",
    "        ax.xaxis.set_major_locator(mdates.AutoDateLocator())\n",
    "        ax.xaxis.set_major_formatter(mdates.DateFormatter('%d.%m.%Y')) #'%Y.%m.%d %H:%M:%S'\n",
    "\n",
    "        # put the labels at 45deg since they tend to be too long\n",
    "        fig.autofmt_xdate()\n",
    "    \n",
    "    countries_of_interest = [\n",
    "        \"Germany\",\n",
    "        \"China\",\n",
    "        \"India\",\n",
    "        \"Israel\",\n",
    "        \"Brazil\",\n",
    "        \"United Kingdom\",\n",
    "        \"Italy\",\n",
    "        \"United States\",\n",
    "        \"South Africa\"\n",
    "    ]\n",
    "    \n",
    "    for location in dataset[\"location\"].unique().tolist():\n",
    "        if location not in countries_of_interest:\n",
    "            countries_of_interest.append(location)\n",
    "            \n",
    "            \n",
    "    locations=countries_of_interest#dataset[\"location\"].unique().tolist()\n",
    "    \n",
    "    del_columns = [\"iso_code\", \"continent\", \"location\", \"date\", \"passed_days\"]\n",
    "    columns = dataset.columns.tolist()\n",
    "\n",
    "    for del_column in del_columns:\n",
    "        columns.remove(del_column)\n",
    "    \n",
    "    interact(plot, location=locations, column=columns)\n",
    "\n",
    "interactive_plot(final_dataset)"
   ]
  },
  {
   "cell_type": "markdown",
   "metadata": {},
   "source": [
    "# 4.2 Modellierung"
   ]
  },
  {
   "cell_type": "markdown",
   "metadata": {},
   "source": [
    "**learnings bis jetzt:**\n",
    "\n",
    "    - HDI hat großen Einfluss auf Tode und Impfungen\n",
    "   \n",
    "**was prognostizieren?:**\n",
    "- **HDI**  -> Entwicklungsstand eines Landes\n",
    "\n",
    "    - 0,800–1,000 (sehr hoch)\n",
    "    - 0,700–0,799 (hoch)\n",
    "    - 0,550–0,699 (mittel)\n",
    "    - 0,350–0,549 (niedrig)\n",
    "\n",
    "    \n",
    "    - In Abhängigkeit von\n",
    "        - new_cases_per_million                   \n",
    "        - hospital_beds_per_thousand\n",
    "        - people_fully_vaccinated_per_thousand"
   ]
  },
  {
   "cell_type": "markdown",
   "metadata": {},
   "source": [
    "-> kummulierte Todeszahlen prognostizieren in abhängigkeit von Tage seit Pandemie Beginn; HDI; Hospital Beds; \n",
    "\n",
    "-> daraus Pandemieverlauf mit Dataset (Tage seit Pandemie Beginn, prognostizierte Todeszahlen)\n",
    "\n",
    "-> Vergleichen des Einflusses der Faktoren"
   ]
  },
  {
   "cell_type": "code",
   "execution_count": 461,
   "metadata": {},
   "outputs": [],
   "source": [
    "model_columns =[\n",
    "    \"passed_days\",\n",
    "    #\"stringency_index\",\n",
    "    \"new_cases_per_million \",\n",
    "    \"human_development_index\",\n",
    "    \"hospital_beds_per_thousand\",  \n",
    "    \"new_deaths_per_million\"\n",
    "]\n",
    "\n",
    "model_dataset = final_dataset.drop(final_dataset.columns.difference(model_columns), 1)\n",
    "\n",
    "X = model_dataset.drop(\"new_deaths_per_million\", axis=1)\n",
    "y = model_dataset[\"new_deaths_per_million\"]\n",
    "\n",
    "# aufteilen in Trainings und Test Daten\n",
    "X_train, X_test, y_train, y_test = train_test_split(X, y, test_size=0.1, random_state=0)"
   ]
  },
  {
   "cell_type": "markdown",
   "metadata": {},
   "source": [
    "## Auswahl Algorithmus\n",
    "\n",
    "Ziel: HDI Prognose -> Supervised Learning -> Regression\n",
    "\n",
    "https://miro.medium.com/max/1400/0*faPhpDiJ7_pZGknr.png\n",
    "\n",
    "Algorithmen:\n",
    "1. Decision Tree\n",
    "    - from sklearn import tree\n",
    "2. Linear Regression\n",
    "    - from sklearn.linear_model import LinearRegression\n",
    "3. Neural Network\n",
    "    - from sklearn.neural_network import MLPClassifier\n",
    "4. Gradient Boosting Tree\n",
    "    - from sklearn.ensemble import GradientBoostingRegressor\n",
    "5. Random Forrest\n",
    "    - from sklearn.ensemble import RandomForestRegressor"
   ]
  },
  {
   "cell_type": "markdown",
   "metadata": {},
   "source": [
    "**1. Decision Tree**"
   ]
  },
  {
   "cell_type": "code",
   "execution_count": 346,
   "metadata": {},
   "outputs": [
    {
     "name": "stdout",
     "output_type": "stream",
     "text": [
      "Der Score beträgt 15.82 %\n",
      "0:00:00.200816\n"
     ]
    }
   ],
   "source": [
    "from sklearn.tree import DecisionTreeRegressor\n",
    "\n",
    "start = datetime.datetime.now()\n",
    "regressor = DecisionTreeRegressor()\n",
    "regressor.fit(X_train, y_train)\n",
    "y_pred = regressor.predict(X_test)\n",
    "score = round(regressor.score(X_test, y_test),4)\n",
    "end = datetime.datetime.now()\n",
    "\n",
    "print('Der Score beträgt {} %'.format(score*100))\n",
    "print(end-start)"
   ]
  },
  {
   "cell_type": "markdown",
   "metadata": {},
   "source": [
    "**2. Linear Regression**"
   ]
  },
  {
   "cell_type": "code",
   "execution_count": 347,
   "metadata": {},
   "outputs": [
    {
     "name": "stdout",
     "output_type": "stream",
     "text": [
      "Der Score beträgt 7.670000000000001 %\n",
      "0:00:00.058579\n"
     ]
    }
   ],
   "source": [
    "from sklearn.linear_model import LinearRegression\n",
    "\n",
    "start = datetime.datetime.now()\n",
    "regressor = LinearRegression()\n",
    "regressor.fit(X_train, y_train)\n",
    "y_pred = regressor.predict(X_test)\n",
    "score = round(regressor.score(X_test, y_test),4)\n",
    "end = datetime.datetime.now()\n",
    "\n",
    "print('Der Score beträgt {} %'.format(score*100))\n",
    "print(end-start)"
   ]
  },
  {
   "cell_type": "markdown",
   "metadata": {},
   "source": [
    "**3. Neural Network**"
   ]
  },
  {
   "cell_type": "code",
   "execution_count": 348,
   "metadata": {},
   "outputs": [
    {
     "name": "stdout",
     "output_type": "stream",
     "text": [
      "Der Score beträgt 18.81 % (Aktivierungsfunktion: logistic, Solver: adam)\n",
      "0:00:43.568963\n"
     ]
    },
    {
     "name": "stderr",
     "output_type": "stream",
     "text": [
      "/opt/anaconda3/lib/python3.8/site-packages/sklearn/neural_network/_multilayer_perceptron.py:614: ConvergenceWarning: Stochastic Optimizer: Maximum iterations (200) reached and the optimization hasn't converged yet.\n",
      "  warnings.warn(\n"
     ]
    }
   ],
   "source": [
    "from sklearn.neural_network import MLPRegressor\n",
    "\n",
    "# best results with logistic/adam\n",
    "activations = [\"logistic\"]#[\"identity\", \"logistic\", \"tanh\", \"relu\"]\n",
    "solvers = [\"adam\"]#[\"lbfgs\", \"sgd\", \"adam\"]\n",
    "\n",
    "for activation in activations:\n",
    "    for solver in solvers:\n",
    "        try:\n",
    "            start = datetime.datetime.now()\n",
    "            regressor = MLPRegressor(activation=activation, solver = solver)\n",
    "            regressor.fit(X_train, y_train)\n",
    "            y_pred = regressor.predict(X_test)\n",
    "            score = round(regressor.score(X_test, y_test),4)\n",
    "            end = datetime.datetime.now()\n",
    "\n",
    "            print('Der Score beträgt {} % (Aktivierungsfunktion: {}, Solver: {})'.format(score*100, activation, solver))\n",
    "            print(end-start)\n",
    "        except:\n",
    "            pass"
   ]
  },
  {
   "cell_type": "markdown",
   "metadata": {},
   "source": [
    "**4. Gradient Boosting Tree**"
   ]
  },
  {
   "cell_type": "code",
   "execution_count": 349,
   "metadata": {},
   "outputs": [
    {
     "name": "stdout",
     "output_type": "stream",
     "text": [
      "Der Score beträgt 39.98 %\n",
      "0:00:02.756354\n"
     ]
    }
   ],
   "source": [
    "from sklearn.ensemble import GradientBoostingRegressor\n",
    "\n",
    "start = datetime.datetime.now()\n",
    "regressor = GradientBoostingRegressor()\n",
    "regressor.fit(X_train, y_train)\n",
    "y_pred = regressor.predict(X_test)\n",
    "score = round(regressor.score(X_test, y_test),4)\n",
    "end = datetime.datetime.now()\n",
    "\n",
    "print('Der Score beträgt {} %'.format(score*100))\n",
    "print(end-start)"
   ]
  },
  {
   "cell_type": "markdown",
   "metadata": {},
   "source": [
    "**5. Random Forrest**"
   ]
  },
  {
   "cell_type": "code",
   "execution_count": 462,
   "metadata": {},
   "outputs": [
    {
     "name": "stdout",
     "output_type": "stream",
     "text": [
      "Der Score beträgt 52.59 %\n",
      "0:00:07.009534\n"
     ]
    }
   ],
   "source": [
    "from sklearn.ensemble import RandomForestRegressor\n",
    "\n",
    "start = datetime.datetime.now()\n",
    "regressor = RandomForestRegressor()\n",
    "regressor.fit(X_train, y_train)\n",
    "y_pred = regressor.predict(X_test)\n",
    "score = round(regressor.score(X_test, y_test),4)\n",
    "end = datetime.datetime.now()\n",
    "\n",
    "print('Der Score beträgt {} %'.format(score*100))\n",
    "print(end-start)"
   ]
  },
  {
   "cell_type": "markdown",
   "metadata": {},
   "source": [
    "Bester Algorithmus: \n",
    "- Random Forrest"
   ]
  },
  {
   "cell_type": "markdown",
   "metadata": {},
   "source": [
    "# Test"
   ]
  },
  {
   "cell_type": "code",
   "execution_count": 465,
   "metadata": {},
   "outputs": [
    {
     "data": {
      "application/vnd.jupyter.widget-view+json": {
       "model_id": "707d41d2521f48a89361c4030f0714c8",
       "version_major": 2,
       "version_minor": 0
      },
      "text/plain": [
       "interactive(children=(Dropdown(description='location', options=('Argentina', 'Peru', 'Mexico', 'Thailand', 'Sl…"
      ]
     },
     "metadata": {},
     "output_type": "display_data"
    },
    {
     "data": {
      "text/plain": [
       "<function __main__.test_model(location, factor_stringency_index, factor_beds, factor_hdi)>"
      ]
     },
     "execution_count": 465,
     "metadata": {},
     "output_type": "execute_result"
    }
   ],
   "source": [
    "def test_model(location, factor_stringency_index, factor_beds, factor_hdi):\n",
    "    #location = \"Germany\"\n",
    "\n",
    "    test_dataset = final_dataset[final_dataset[\"location\"] == location].reset_index()\n",
    "    passed_days = int(test_dataset[\"passed_days\"].values[-1])+1\n",
    "\n",
    "    #stringency_index = test_dataset[\"human_development_index\"].mean()\n",
    "    hospital_beds_per_thousand =test_dataset[\"hospital_beds_per_thousand\"].mean()\n",
    "    human_development_index = test_dataset[\"human_development_index\"].mean()\n",
    "\n",
    "    #factor_stringency_index = 0\n",
    "    #factor_beds = 1\n",
    "    #factor_hdi = 1\n",
    "\n",
    "\n",
    "    pred_dataframe = pd.DataFrame(\n",
    "        data = {\n",
    "            #\"stringency_index\": np.full((1, passed_days), factor_stringency_index*stringency_index)[0].tolist(),\n",
    "            \"hospital_beds_per_thousand\": np.full((1, passed_days), factor_beds*hospital_beds_per_thousand)[0].tolist(),\n",
    "            \"human_development_index\": np.full((1, passed_days), factor_hdi*human_development_index)[0].tolist(),\n",
    "            \"passed_days\": np.arange(0, passed_days, 1)\n",
    "        }\n",
    "    )\n",
    "\n",
    "    pred_dataframe[\"predicted_new_deaths_per_million\"] = regressor.predict(pred_dataframe)\n",
    "    pred_dataframe[\"real_new_deaths_per_million\"] = test_dataset[\"new_deaths_per_million\"]\n",
    "    pred_dataframe.head()\n",
    "\n",
    "\n",
    "    fig, ax = plt.subplots(figsize=(20,10))\n",
    "    plt.title(\"Verlauf der neuen Todesfälle in {}\".format(location))\n",
    "    sns.lineplot(x=\"passed_days\", y=\"real_new_deaths_per_million\", data = pred_dataframe, color=\"g\", label=\"real\")\n",
    "    sns.lineplot(x=\"passed_days\", y=\"predicted_new_deaths_per_million\", data = pred_dataframe, color= \"r\", label=\"predicted\")\n",
    "\n",
    "\n",
    "\n",
    "    fig, ax = plt.subplots(figsize=(20,10))\n",
    "    plt.title(\"kumulierte Todesfälle in {}\".format(location))\n",
    "    sns.lineplot(x=\"passed_days\", y=\"real_new_deaths_per_million\", data = pred_dataframe.cumsum(), color=\"g\", label=\"real\")\n",
    "    sns.lineplot(x=\"passed_days\", y=\"predicted_new_deaths_per_million\", data = pred_dataframe.cumsum(), color= \"r\", label=\"predicted\")\n",
    "\n",
    "locations=dataset[\"location\"].unique().tolist()\n",
    "factor_stringency_index_slider = widgets.IntSlider(min=0, max=3, step=1, value=1, continuous_update=True,)\n",
    "factor_beds_slider = widgets.IntSlider(min=0, max=3, step=1, value=1, continuous_update=True,)\n",
    "factor_hdi_slider = widgets.IntSlider(min=0, max=3, step=1, value=1, continuous_update=True,)\n",
    "\n",
    "interact(test_model, location=locations, \n",
    "    column=columns, \n",
    "    factor_stringency_index= factor_stringency_index_slider, \n",
    "    factor_beds = factor_beds_slider, \n",
    "    factor_hdi = factor_hdi_slider)\n",
    "\n",
    "    #plt.set_ylabel(\"new deaths per million\")"
   ]
  },
  {
   "cell_type": "code",
   "execution_count": null,
   "metadata": {},
   "outputs": [],
   "source": []
  }
 ],
 "metadata": {
  "colab": {
   "collapsed_sections": [],
   "include_colab_link": true,
   "name": "covid-analysis.ipynb",
   "provenance": []
  },
  "kernelspec": {
   "display_name": "Python 3",
   "language": "python",
   "name": "python3"
  },
  "language_info": {
   "codemirror_mode": {
    "name": "ipython",
    "version": 3
   },
   "file_extension": ".py",
   "mimetype": "text/x-python",
   "name": "python",
   "nbconvert_exporter": "python",
   "pygments_lexer": "ipython3",
   "version": "3.8.3"
  }
 },
 "nbformat": 4,
 "nbformat_minor": 1
}
