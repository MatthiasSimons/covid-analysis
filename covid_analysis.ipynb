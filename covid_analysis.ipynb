{
  "nbformat": 4,
  "nbformat_minor": 0,
  "metadata": {
    "colab": {
      "name": "covid-analysis.ipynb",
      "provenance": [],
      "collapsed_sections": [],
      "include_colab_link": true
    },
    "kernelspec": {
      "name": "python3",
      "display_name": "Python 3"
    },
    "language_info": {
      "name": "python"
    }
  },
  "cells": [
    {
      "cell_type": "markdown",
      "metadata": {
        "id": "view-in-github",
        "colab_type": "text"
      },
      "source": [
        "<a href=\"https://colab.research.google.com/github/MatthiasSimons/covid-analysis/blob/main/covid_analysis.ipynb\" target=\"_parent\"><img src=\"https://colab.research.google.com/assets/colab-badge.svg\" alt=\"Open In Colab\"/></a>"
      ]
    },
    {
      "cell_type": "markdown",
      "metadata": {
        "id": "xhvCqeoGgOmp"
      },
      "source": [
        "# Programmierung und Auswertung großer Datenmengen\n",
        "## Analyse der Covid-19 Fallzahlen und Impfungen"
      ]
    },
    {
      "cell_type": "markdown",
      "metadata": {
        "id": "SzbNosKnfdz4"
      },
      "source": [
        "## Vorgehensweise\n",
        "\n",
        "\n",
        "*   Importieren\n",
        "*   Bereinigen\n",
        "*   Modifizieren\n",
        "*   Modellieren\n",
        "*   Validieren\n",
        "*   Bewerten\n",
        "*   Zusammenfassen\n",
        "\n",
        "\n",
        "\n"
      ]
    },
    {
      "cell_type": "markdown",
      "metadata": {
        "id": "SpoDgDbPge47"
      },
      "source": [
        "## Importieren der Bibliotheken"
      ]
    },
    {
      "cell_type": "code",
      "metadata": {
        "id": "WUpSJdMgTFJr"
      },
      "source": [
        "import pandas as pd"
      ],
      "execution_count": null,
      "outputs": []
    },
    {
      "cell_type": "code",
      "metadata": {
        "id": "T_FcVpchTUgh"
      },
      "source": [
        "url_fallzahlen = \"https://raw.githubusercontent.com/ocaktans/Gathering-Covid-19-Data/73623b5057979a4bca4ffdf931cc29222ad7a58e/Covid-19%20Dataset.csv\"\n",
        "url_impfungen = \"https://raw.githubusercontent.com/owid/covid-19-data/master/public/data/vaccinations/vaccinations.csv\"\n",
        "fallzahlen = pd.read_csv(url_fallzahlen, sep=',')\n",
        "impfungen = pd.read_csv(url_impfungen, sep=',')"
      ],
      "execution_count": 28,
      "outputs": []
    },
    {
      "cell_type": "code",
      "metadata": {
        "id": "2JayC3ZwTY1i",
        "colab": {
          "base_uri": "https://localhost:8080/",
          "height": 204
        },
        "outputId": "515431ca-0442-4eba-e9f9-6fd7b7363ce5"
      },
      "source": [
        "fallzahlen.head()"
      ],
      "execution_count": 26,
      "outputs": [
        {
          "output_type": "execute_result",
          "data": {
            "text/html": [
              "<div>\n",
              "<style scoped>\n",
              "    .dataframe tbody tr th:only-of-type {\n",
              "        vertical-align: middle;\n",
              "    }\n",
              "\n",
              "    .dataframe tbody tr th {\n",
              "        vertical-align: top;\n",
              "    }\n",
              "\n",
              "    .dataframe thead th {\n",
              "        text-align: right;\n",
              "    }\n",
              "</style>\n",
              "<table border=\"1\" class=\"dataframe\">\n",
              "  <thead>\n",
              "    <tr style=\"text-align: right;\">\n",
              "      <th></th>\n",
              "      <th>Unnamed: 0</th>\n",
              "      <th>Country</th>\n",
              "      <th>Date</th>\n",
              "      <th>Confirmed</th>\n",
              "      <th>Recovered</th>\n",
              "      <th>Deaths</th>\n",
              "      <th>Active Cases</th>\n",
              "      <th>Death Rate(%)</th>\n",
              "      <th>Increase</th>\n",
              "      <th>FirstDays</th>\n",
              "      <th>day_xth</th>\n",
              "      <th>Population_1k</th>\n",
              "      <th>TenCase</th>\n",
              "      <th>Cases/1000s</th>\n",
              "    </tr>\n",
              "  </thead>\n",
              "  <tbody>\n",
              "    <tr>\n",
              "      <th>0</th>\n",
              "      <td>0</td>\n",
              "      <td>Afghanistan</td>\n",
              "      <td>2020-01-22</td>\n",
              "      <td>0</td>\n",
              "      <td>0</td>\n",
              "      <td>0</td>\n",
              "      <td>0</td>\n",
              "      <td>0.0</td>\n",
              "      <td>0</td>\n",
              "      <td>2020-02-24</td>\n",
              "      <td>0</td>\n",
              "      <td>38928</td>\n",
              "      <td>2020-03-11</td>\n",
              "      <td>0.0</td>\n",
              "    </tr>\n",
              "    <tr>\n",
              "      <th>1</th>\n",
              "      <td>1</td>\n",
              "      <td>Afghanistan</td>\n",
              "      <td>2020-01-23</td>\n",
              "      <td>0</td>\n",
              "      <td>0</td>\n",
              "      <td>0</td>\n",
              "      <td>0</td>\n",
              "      <td>0.0</td>\n",
              "      <td>0</td>\n",
              "      <td>2020-02-24</td>\n",
              "      <td>0</td>\n",
              "      <td>38928</td>\n",
              "      <td>2020-03-11</td>\n",
              "      <td>0.0</td>\n",
              "    </tr>\n",
              "    <tr>\n",
              "      <th>2</th>\n",
              "      <td>2</td>\n",
              "      <td>Afghanistan</td>\n",
              "      <td>2020-01-24</td>\n",
              "      <td>0</td>\n",
              "      <td>0</td>\n",
              "      <td>0</td>\n",
              "      <td>0</td>\n",
              "      <td>0.0</td>\n",
              "      <td>0</td>\n",
              "      <td>2020-02-24</td>\n",
              "      <td>0</td>\n",
              "      <td>38928</td>\n",
              "      <td>2020-03-11</td>\n",
              "      <td>0.0</td>\n",
              "    </tr>\n",
              "    <tr>\n",
              "      <th>3</th>\n",
              "      <td>3</td>\n",
              "      <td>Afghanistan</td>\n",
              "      <td>2020-01-25</td>\n",
              "      <td>0</td>\n",
              "      <td>0</td>\n",
              "      <td>0</td>\n",
              "      <td>0</td>\n",
              "      <td>0.0</td>\n",
              "      <td>0</td>\n",
              "      <td>2020-02-24</td>\n",
              "      <td>0</td>\n",
              "      <td>38928</td>\n",
              "      <td>2020-03-11</td>\n",
              "      <td>0.0</td>\n",
              "    </tr>\n",
              "    <tr>\n",
              "      <th>4</th>\n",
              "      <td>4</td>\n",
              "      <td>Afghanistan</td>\n",
              "      <td>2020-01-26</td>\n",
              "      <td>0</td>\n",
              "      <td>0</td>\n",
              "      <td>0</td>\n",
              "      <td>0</td>\n",
              "      <td>0.0</td>\n",
              "      <td>0</td>\n",
              "      <td>2020-02-24</td>\n",
              "      <td>0</td>\n",
              "      <td>38928</td>\n",
              "      <td>2020-03-11</td>\n",
              "      <td>0.0</td>\n",
              "    </tr>\n",
              "  </tbody>\n",
              "</table>\n",
              "</div>"
            ],
            "text/plain": [
              "   Unnamed: 0      Country        Date  ...  Population_1k     TenCase  Cases/1000s\n",
              "0           0  Afghanistan  2020-01-22  ...          38928  2020-03-11          0.0\n",
              "1           1  Afghanistan  2020-01-23  ...          38928  2020-03-11          0.0\n",
              "2           2  Afghanistan  2020-01-24  ...          38928  2020-03-11          0.0\n",
              "3           3  Afghanistan  2020-01-25  ...          38928  2020-03-11          0.0\n",
              "4           4  Afghanistan  2020-01-26  ...          38928  2020-03-11          0.0\n",
              "\n",
              "[5 rows x 14 columns]"
            ]
          },
          "metadata": {
            "tags": []
          },
          "execution_count": 26
        }
      ]
    },
    {
      "cell_type": "markdown",
      "metadata": {
        "id": "LKonYiMrZTO6"
      },
      "source": [
        "Beschreibung der Spalten:\n",
        "- Country: Länder Namen\n",
        "- Date: Datum\n",
        "- Confirmed: Kumulative bestätigte Fälle\n",
        "- Recovered: Kumulative Genesene Fälle\n",
        "- Deaths: Kumulative Verstorbene\n",
        "- Active Cases: Aktive Fälle\n",
        "- Death Rate(%):\n",
        "- Increase: Tägliche Steigerung der bestätigten Fälle\n",
        "- FirstDays: Tag an dem der erste Fall gemeldet wurde\n",
        "- day_xth: verstrichene Tage seit dem ersten gemeldeten Fall\n",
        "- Population_1k: Einwohnerzahl in Tausend\n",
        "- TenCase: Tag an dem Zehn Fälle gemeldet wurden\n",
        "- Cases/1000s: Fälle pro Tausend Einwohner"
      ]
    },
    {
      "cell_type": "code",
      "metadata": {
        "colab": {
          "base_uri": "https://localhost:8080/"
        },
        "id": "DJFsf762Y1Rc",
        "outputId": "b58a96cc-1819-4ad8-8182-41136cc1f5aa"
      },
      "source": [
        "fallzahlen.info()"
      ],
      "execution_count": 29,
      "outputs": [
        {
          "output_type": "stream",
          "text": [
            "<class 'pandas.core.frame.DataFrame'>\n",
            "RangeIndex: 92737 entries, 0 to 92736\n",
            "Data columns (total 14 columns):\n",
            " #   Column         Non-Null Count  Dtype  \n",
            "---  ------         --------------  -----  \n",
            " 0   Unnamed: 0     92737 non-null  int64  \n",
            " 1   Country        92737 non-null  object \n",
            " 2   Date           92737 non-null  object \n",
            " 3   Confirmed      92737 non-null  int64  \n",
            " 4   Recovered      92737 non-null  int64  \n",
            " 5   Deaths         92737 non-null  int64  \n",
            " 6   Active Cases   92737 non-null  int64  \n",
            " 7   Death Rate(%)  92737 non-null  float64\n",
            " 8   Increase       92737 non-null  int64  \n",
            " 9   FirstDays      92737 non-null  object \n",
            " 10  day_xth        92737 non-null  int64  \n",
            " 11  Population_1k  92737 non-null  int64  \n",
            " 12  TenCase        90322 non-null  object \n",
            " 13  Cases/1000s    92737 non-null  float64\n",
            "dtypes: float64(2), int64(8), object(4)\n",
            "memory usage: 9.9+ MB\n"
          ],
          "name": "stdout"
        }
      ]
    },
    {
      "cell_type": "code",
      "metadata": {
        "colab": {
          "base_uri": "https://localhost:8080/",
          "height": 609
        },
        "id": "EFe5IS1kYySM",
        "outputId": "cb96f3bf-70a3-453c-d998-fa8915fece68"
      },
      "source": [
        "impfungen[impfungen[\"location\"] == \"Germany\"]"
      ],
      "execution_count": 37,
      "outputs": [
        {
          "output_type": "execute_result",
          "data": {
            "text/html": [
              "<div>\n",
              "<style scoped>\n",
              "    .dataframe tbody tr th:only-of-type {\n",
              "        vertical-align: middle;\n",
              "    }\n",
              "\n",
              "    .dataframe tbody tr th {\n",
              "        vertical-align: top;\n",
              "    }\n",
              "\n",
              "    .dataframe thead th {\n",
              "        text-align: right;\n",
              "    }\n",
              "</style>\n",
              "<table border=\"1\" class=\"dataframe\">\n",
              "  <thead>\n",
              "    <tr style=\"text-align: right;\">\n",
              "      <th></th>\n",
              "      <th>location</th>\n",
              "      <th>iso_code</th>\n",
              "      <th>date</th>\n",
              "      <th>total_vaccinations</th>\n",
              "      <th>people_vaccinated</th>\n",
              "      <th>people_fully_vaccinated</th>\n",
              "      <th>daily_vaccinations_raw</th>\n",
              "      <th>daily_vaccinations</th>\n",
              "      <th>total_vaccinations_per_hundred</th>\n",
              "      <th>people_vaccinated_per_hundred</th>\n",
              "      <th>people_fully_vaccinated_per_hundred</th>\n",
              "      <th>daily_vaccinations_per_million</th>\n",
              "    </tr>\n",
              "  </thead>\n",
              "  <tbody>\n",
              "    <tr>\n",
              "      <th>6903</th>\n",
              "      <td>Germany</td>\n",
              "      <td>DEU</td>\n",
              "      <td>2020-12-27</td>\n",
              "      <td>24087.0</td>\n",
              "      <td>24073.0</td>\n",
              "      <td>14.0</td>\n",
              "      <td>NaN</td>\n",
              "      <td>NaN</td>\n",
              "      <td>0.03</td>\n",
              "      <td>0.03</td>\n",
              "      <td>0.00</td>\n",
              "      <td>NaN</td>\n",
              "    </tr>\n",
              "    <tr>\n",
              "      <th>6904</th>\n",
              "      <td>Germany</td>\n",
              "      <td>DEU</td>\n",
              "      <td>2020-12-28</td>\n",
              "      <td>42647.0</td>\n",
              "      <td>42596.0</td>\n",
              "      <td>51.0</td>\n",
              "      <td>18560.0</td>\n",
              "      <td>18560.0</td>\n",
              "      <td>0.05</td>\n",
              "      <td>0.05</td>\n",
              "      <td>0.00</td>\n",
              "      <td>222.0</td>\n",
              "    </tr>\n",
              "    <tr>\n",
              "      <th>6905</th>\n",
              "      <td>Germany</td>\n",
              "      <td>DEU</td>\n",
              "      <td>2020-12-29</td>\n",
              "      <td>93471.0</td>\n",
              "      <td>92691.0</td>\n",
              "      <td>780.0</td>\n",
              "      <td>50824.0</td>\n",
              "      <td>34692.0</td>\n",
              "      <td>0.11</td>\n",
              "      <td>0.11</td>\n",
              "      <td>0.00</td>\n",
              "      <td>414.0</td>\n",
              "    </tr>\n",
              "    <tr>\n",
              "      <th>6906</th>\n",
              "      <td>Germany</td>\n",
              "      <td>DEU</td>\n",
              "      <td>2020-12-30</td>\n",
              "      <td>156253.0</td>\n",
              "      <td>155352.0</td>\n",
              "      <td>901.0</td>\n",
              "      <td>62782.0</td>\n",
              "      <td>44055.0</td>\n",
              "      <td>0.19</td>\n",
              "      <td>0.19</td>\n",
              "      <td>0.00</td>\n",
              "      <td>526.0</td>\n",
              "    </tr>\n",
              "    <tr>\n",
              "      <th>6907</th>\n",
              "      <td>Germany</td>\n",
              "      <td>DEU</td>\n",
              "      <td>2020-12-31</td>\n",
              "      <td>206444.0</td>\n",
              "      <td>205394.0</td>\n",
              "      <td>1050.0</td>\n",
              "      <td>50191.0</td>\n",
              "      <td>45589.0</td>\n",
              "      <td>0.25</td>\n",
              "      <td>0.25</td>\n",
              "      <td>0.00</td>\n",
              "      <td>544.0</td>\n",
              "    </tr>\n",
              "    <tr>\n",
              "      <th>...</th>\n",
              "      <td>...</td>\n",
              "      <td>...</td>\n",
              "      <td>...</td>\n",
              "      <td>...</td>\n",
              "      <td>...</td>\n",
              "      <td>...</td>\n",
              "      <td>...</td>\n",
              "      <td>...</td>\n",
              "      <td>...</td>\n",
              "      <td>...</td>\n",
              "      <td>...</td>\n",
              "      <td>...</td>\n",
              "    </tr>\n",
              "    <tr>\n",
              "      <th>7041</th>\n",
              "      <td>Germany</td>\n",
              "      <td>DEU</td>\n",
              "      <td>2021-05-14</td>\n",
              "      <td>39478278.0</td>\n",
              "      <td>30462366.0</td>\n",
              "      <td>9099240.0</td>\n",
              "      <td>740226.0</td>\n",
              "      <td>702135.0</td>\n",
              "      <td>47.12</td>\n",
              "      <td>36.36</td>\n",
              "      <td>10.86</td>\n",
              "      <td>8380.0</td>\n",
              "    </tr>\n",
              "    <tr>\n",
              "      <th>7042</th>\n",
              "      <td>Germany</td>\n",
              "      <td>DEU</td>\n",
              "      <td>2021-05-15</td>\n",
              "      <td>39866608.0</td>\n",
              "      <td>30698927.0</td>\n",
              "      <td>9258235.0</td>\n",
              "      <td>388330.0</td>\n",
              "      <td>697572.0</td>\n",
              "      <td>47.58</td>\n",
              "      <td>36.64</td>\n",
              "      <td>11.05</td>\n",
              "      <td>8326.0</td>\n",
              "    </tr>\n",
              "    <tr>\n",
              "      <th>7043</th>\n",
              "      <td>Germany</td>\n",
              "      <td>DEU</td>\n",
              "      <td>2021-05-16</td>\n",
              "      <td>40141267.0</td>\n",
              "      <td>30865821.0</td>\n",
              "      <td>9375140.0</td>\n",
              "      <td>274659.0</td>\n",
              "      <td>696367.0</td>\n",
              "      <td>47.91</td>\n",
              "      <td>36.84</td>\n",
              "      <td>11.19</td>\n",
              "      <td>8311.0</td>\n",
              "    </tr>\n",
              "    <tr>\n",
              "      <th>7044</th>\n",
              "      <td>Germany</td>\n",
              "      <td>DEU</td>\n",
              "      <td>2021-05-17</td>\n",
              "      <td>40673871.0</td>\n",
              "      <td>31221870.0</td>\n",
              "      <td>9565759.0</td>\n",
              "      <td>532604.0</td>\n",
              "      <td>689578.0</td>\n",
              "      <td>48.55</td>\n",
              "      <td>37.26</td>\n",
              "      <td>11.42</td>\n",
              "      <td>8230.0</td>\n",
              "    </tr>\n",
              "    <tr>\n",
              "      <th>7045</th>\n",
              "      <td>Germany</td>\n",
              "      <td>DEU</td>\n",
              "      <td>2021-05-18</td>\n",
              "      <td>41517849.0</td>\n",
              "      <td>31741349.0</td>\n",
              "      <td>9901626.0</td>\n",
              "      <td>843978.0</td>\n",
              "      <td>656705.0</td>\n",
              "      <td>49.55</td>\n",
              "      <td>37.88</td>\n",
              "      <td>11.82</td>\n",
              "      <td>7838.0</td>\n",
              "    </tr>\n",
              "  </tbody>\n",
              "</table>\n",
              "<p>143 rows × 12 columns</p>\n",
              "</div>"
            ],
            "text/plain": [
              "     location  ... daily_vaccinations_per_million\n",
              "6903  Germany  ...                            NaN\n",
              "6904  Germany  ...                          222.0\n",
              "6905  Germany  ...                          414.0\n",
              "6906  Germany  ...                          526.0\n",
              "6907  Germany  ...                          544.0\n",
              "...       ...  ...                            ...\n",
              "7041  Germany  ...                         8380.0\n",
              "7042  Germany  ...                         8326.0\n",
              "7043  Germany  ...                         8311.0\n",
              "7044  Germany  ...                         8230.0\n",
              "7045  Germany  ...                         7838.0\n",
              "\n",
              "[143 rows x 12 columns]"
            ]
          },
          "metadata": {
            "tags": []
          },
          "execution_count": 37
        }
      ]
    },
    {
      "cell_type": "code",
      "metadata": {
        "colab": {
          "base_uri": "https://localhost:8080/"
        },
        "id": "16GF3K-JZBJu",
        "outputId": "36ebfc3e-ef37-4151-e417-810577792a32"
      },
      "source": [
        "fallzahlen.isnull().sum()"
      ],
      "execution_count": 24,
      "outputs": [
        {
          "output_type": "execute_result",
          "data": {
            "text/plain": [
              "Country             0\n",
              "Date                0\n",
              "Confirmed           0\n",
              "Recovered           0\n",
              "Deaths              0\n",
              "Active Cases        0\n",
              "Death Rate(%)       0\n",
              "Increase            6\n",
              "FirstDays           0\n",
              "day_xth             0\n",
              "Population_1k       0\n",
              "TenCase          2415\n",
              "Cases/1000s         0\n",
              "dtype: int64"
            ]
          },
          "metadata": {
            "tags": []
          },
          "execution_count": 24
        }
      ]
    }
  ]
}