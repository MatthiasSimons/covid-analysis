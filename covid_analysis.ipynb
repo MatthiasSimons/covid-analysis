{
  "nbformat": 4,
  "nbformat_minor": 0,
  "metadata": {
    "colab": {
      "name": "covid-analysis.ipynb",
      "provenance": [],
      "collapsed_sections": [],
      "include_colab_link": true
    },
    "kernelspec": {
      "name": "python3",
      "display_name": "Python 3"
    },
    "language_info": {
      "name": "python"
    }
  },
  "cells": [
    {
      "cell_type": "markdown",
      "metadata": {
        "id": "view-in-github",
        "colab_type": "text"
      },
      "source": [
        "<a href=\"https://colab.research.google.com/github/MatthiasSimons/covid-analysis/blob/main/covid_analysis.ipynb\" target=\"_parent\"><img src=\"https://colab.research.google.com/assets/colab-badge.svg\" alt=\"Open In Colab\"/></a>"
      ]
    },
    {
      "cell_type": "markdown",
      "metadata": {
        "id": "xhvCqeoGgOmp"
      },
      "source": [
        "# Programmierung und Auswertung großer Datenmengen\n",
        "## Analyse der Covid-19 Fallzahlen und Impfungen"
      ]
    },
    {
      "cell_type": "markdown",
      "metadata": {
        "id": "YaIRV8imeQyg"
      },
      "source": [
        "# Einleitung\n",
        "...\n",
        "\n",
        "Vorgehensweise\n",
        "\n",
        "\n",
        "*   Importieren\n",
        "*   Bereinigen\n",
        "*   Modifizieren\n",
        "*   Modellieren\n",
        "*   Validieren\n",
        "*   Bewerten\n",
        "*   Zusammenfassen"
      ]
    },
    {
      "cell_type": "markdown",
      "metadata": {
        "id": "1VUxuKdXdkPg"
      },
      "source": [
        "# Gliederung\n",
        "CRoos Industry Standard Process for Data Mining (CRISP-DM)\n",
        "\n",
        "1.   Business Understanding\n",
        "2.   Data Understanding\n",
        "3.   Data Preperation\n",
        "4.   Modelling\n",
        "5.   .... \n",
        "\n"
      ]
    },
    {
      "cell_type": "markdown",
      "metadata": {
        "id": "SpoDgDbPge47"
      },
      "source": [
        "## Vorbereitung\n",
        "\n",
        "Importieren der Bibliotheken\n",
        "\n"
      ]
    },
    {
      "cell_type": "code",
      "metadata": {
        "id": "WUpSJdMgTFJr"
      },
      "source": [
        "import pandas as pd\n",
        "import matplotlib.pyplot as plt\n",
        "import seaborn as sns\n",
        "import numpy as np"
      ],
      "execution_count": null,
      "outputs": []
    },
    {
      "cell_type": "markdown",
      "metadata": {
        "id": "00xAlwSkei68"
      },
      "source": [
        "# 1. Business Understanding\n",
        "... "
      ]
    },
    {
      "cell_type": "markdown",
      "metadata": {
        "id": "x6LIIa-_eoSI"
      },
      "source": [
        "# 2. Data Understanding\n",
        "- zwei Datensätze über die Covid19 Fallzahlen und Impfrate (Link einfügen)"
      ]
    },
    {
      "cell_type": "markdown",
      "metadata": {
        "id": "B4THF19Ig9bv"
      },
      "source": [
        "## 2.1 Importieren der Daten"
      ]
    },
    {
      "cell_type": "code",
      "metadata": {
        "id": "T_FcVpchTUgh"
      },
      "source": [
        "url_fallzahlen = \"https://raw.githubusercontent.com/ocaktans/Gathering-Covid-19-Data/73623b5057979a4bca4ffdf931cc29222ad7a58e/Covid-19%20Dataset.csv\"\n",
        "url_impfungen = \"https://raw.githubusercontent.com/owid/covid-19-data/master/public/data/vaccinations/vaccinations.csv\"\n",
        "fallzahlen = pd.read_csv(url_fallzahlen, sep=',')\n",
        "fallzahlen.name = \"Fallzahlen\"\n",
        "impfungen = pd.read_csv(url_impfungen, sep=',')\n",
        "impfungen.name = \"Impfungen\"\n",
        "\n",
        "fallzahlen.set_index([\"Date\"], inplace = True)\n",
        "impfungen.rename(columns = {\"date\": \"Date\"}, inplace = True)\n",
        "impfungen.set_index([\"Date\"], inplace = True)"
      ],
      "execution_count": null,
      "outputs": []
    },
    {
      "cell_type": "markdown",
      "metadata": {
        "id": "mIGB-a6bhC03"
      },
      "source": [
        "## 2.2 Beschreibung der Daten"
      ]
    },
    {
      "cell_type": "markdown",
      "metadata": {
        "id": "i1zdYaimhFGl"
      },
      "source": [
        "### Datensatz: Covid-19 Fallzahlen"
      ]
    },
    {
      "cell_type": "markdown",
      "metadata": {
        "id": "6GtKb_KIhwCc"
      },
      "source": [
        "Bei dem Covid-19-Data Datensatz handelt es sich um einen Datensatz der die Entwicklung der Covid-19 Fallzahlen weltweit täglich abbildet."
      ]
    },
    {
      "cell_type": "code",
      "metadata": {
        "id": "2JayC3ZwTY1i",
        "colab": {
          "base_uri": "https://localhost:8080/",
          "height": 337
        },
        "outputId": "eba83386-fbef-4663-9a88-53ef0b0e509d"
      },
      "source": [
        "fallzahlen.head()"
      ],
      "execution_count": null,
      "outputs": [
        {
          "output_type": "execute_result",
          "data": {
            "text/html": [
              "<div>\n",
              "<style scoped>\n",
              "    .dataframe tbody tr th:only-of-type {\n",
              "        vertical-align: middle;\n",
              "    }\n",
              "\n",
              "    .dataframe tbody tr th {\n",
              "        vertical-align: top;\n",
              "    }\n",
              "\n",
              "    .dataframe thead th {\n",
              "        text-align: right;\n",
              "    }\n",
              "</style>\n",
              "<table border=\"1\" class=\"dataframe\">\n",
              "  <thead>\n",
              "    <tr style=\"text-align: right;\">\n",
              "      <th></th>\n",
              "      <th>Unnamed: 0</th>\n",
              "      <th>Country</th>\n",
              "      <th>Confirmed</th>\n",
              "      <th>Recovered</th>\n",
              "      <th>Deaths</th>\n",
              "      <th>Active Cases</th>\n",
              "      <th>Death Rate(%)</th>\n",
              "      <th>Increase</th>\n",
              "      <th>FirstDays</th>\n",
              "      <th>day_xth</th>\n",
              "      <th>Population_1k</th>\n",
              "      <th>TenCase</th>\n",
              "      <th>Cases/1000s</th>\n",
              "    </tr>\n",
              "    <tr>\n",
              "      <th>Date</th>\n",
              "      <th></th>\n",
              "      <th></th>\n",
              "      <th></th>\n",
              "      <th></th>\n",
              "      <th></th>\n",
              "      <th></th>\n",
              "      <th></th>\n",
              "      <th></th>\n",
              "      <th></th>\n",
              "      <th></th>\n",
              "      <th></th>\n",
              "      <th></th>\n",
              "      <th></th>\n",
              "    </tr>\n",
              "  </thead>\n",
              "  <tbody>\n",
              "    <tr>\n",
              "      <th>2020-01-22</th>\n",
              "      <td>0</td>\n",
              "      <td>Afghanistan</td>\n",
              "      <td>0</td>\n",
              "      <td>0</td>\n",
              "      <td>0</td>\n",
              "      <td>0</td>\n",
              "      <td>0.0</td>\n",
              "      <td>0</td>\n",
              "      <td>2020-02-24</td>\n",
              "      <td>0</td>\n",
              "      <td>38928</td>\n",
              "      <td>2020-03-11</td>\n",
              "      <td>0.0</td>\n",
              "    </tr>\n",
              "    <tr>\n",
              "      <th>2020-01-23</th>\n",
              "      <td>1</td>\n",
              "      <td>Afghanistan</td>\n",
              "      <td>0</td>\n",
              "      <td>0</td>\n",
              "      <td>0</td>\n",
              "      <td>0</td>\n",
              "      <td>0.0</td>\n",
              "      <td>0</td>\n",
              "      <td>2020-02-24</td>\n",
              "      <td>0</td>\n",
              "      <td>38928</td>\n",
              "      <td>2020-03-11</td>\n",
              "      <td>0.0</td>\n",
              "    </tr>\n",
              "    <tr>\n",
              "      <th>2020-01-24</th>\n",
              "      <td>2</td>\n",
              "      <td>Afghanistan</td>\n",
              "      <td>0</td>\n",
              "      <td>0</td>\n",
              "      <td>0</td>\n",
              "      <td>0</td>\n",
              "      <td>0.0</td>\n",
              "      <td>0</td>\n",
              "      <td>2020-02-24</td>\n",
              "      <td>0</td>\n",
              "      <td>38928</td>\n",
              "      <td>2020-03-11</td>\n",
              "      <td>0.0</td>\n",
              "    </tr>\n",
              "    <tr>\n",
              "      <th>2020-01-25</th>\n",
              "      <td>3</td>\n",
              "      <td>Afghanistan</td>\n",
              "      <td>0</td>\n",
              "      <td>0</td>\n",
              "      <td>0</td>\n",
              "      <td>0</td>\n",
              "      <td>0.0</td>\n",
              "      <td>0</td>\n",
              "      <td>2020-02-24</td>\n",
              "      <td>0</td>\n",
              "      <td>38928</td>\n",
              "      <td>2020-03-11</td>\n",
              "      <td>0.0</td>\n",
              "    </tr>\n",
              "    <tr>\n",
              "      <th>2020-01-26</th>\n",
              "      <td>4</td>\n",
              "      <td>Afghanistan</td>\n",
              "      <td>0</td>\n",
              "      <td>0</td>\n",
              "      <td>0</td>\n",
              "      <td>0</td>\n",
              "      <td>0.0</td>\n",
              "      <td>0</td>\n",
              "      <td>2020-02-24</td>\n",
              "      <td>0</td>\n",
              "      <td>38928</td>\n",
              "      <td>2020-03-11</td>\n",
              "      <td>0.0</td>\n",
              "    </tr>\n",
              "  </tbody>\n",
              "</table>\n",
              "</div>"
            ],
            "text/plain": [
              "            Unnamed: 0      Country  ...     TenCase  Cases/1000s\n",
              "Date                                 ...                         \n",
              "2020-01-22           0  Afghanistan  ...  2020-03-11          0.0\n",
              "2020-01-23           1  Afghanistan  ...  2020-03-11          0.0\n",
              "2020-01-24           2  Afghanistan  ...  2020-03-11          0.0\n",
              "2020-01-25           3  Afghanistan  ...  2020-03-11          0.0\n",
              "2020-01-26           4  Afghanistan  ...  2020-03-11          0.0\n",
              "\n",
              "[5 rows x 13 columns]"
            ]
          },
          "metadata": {
            "tags": []
          },
          "execution_count": 247
        }
      ]
    },
    {
      "cell_type": "markdown",
      "metadata": {
        "id": "LKonYiMrZTO6"
      },
      "source": [
        "Der Datensatz besteht aus 14 Spalten die im folgenden kurz beschrieben werden:\n",
        "- Country: Land\n",
        "- Date: Datum\n",
        "- Confirmed: Kumulative bestätigte Fälle\n",
        "- Recovered: Kumulative Genesene Fälle\n",
        "- Deaths: Kumulative Verstorbene\n",
        "- Active Cases: Aktive Fälle\n",
        "- Death Rate(%):\n",
        "- Increase: Tägliche Steigerung der bestätigten Fälle\n",
        "- FirstDays: Tag an dem der erste Fall gemeldet wurde\n",
        "- day_xth: verstrichene Tage seit dem ersten gemeldeten Fall\n",
        "- Population_1k: Einwohnerzahl in Tausend\n",
        "- TenCase: Tag an dem Zehn Fälle gemeldet wurden\n",
        "- Cases/1000s: Fälle pro Tausend Einwohner"
      ]
    },
    {
      "cell_type": "markdown",
      "metadata": {
        "id": "FJFzzmkGicod"
      },
      "source": [
        "### Datensatz: Covid-19 Impfrate"
      ]
    },
    {
      "cell_type": "markdown",
      "metadata": {
        "id": "l5C3CEqhipr0"
      },
      "source": [
        "Bei diesem Datensatz handelt es sich um einen Datensatz der die Entwicklung der Covid-19 Impfungen weltweit täglich abbildet"
      ]
    },
    {
      "cell_type": "code",
      "metadata": {
        "colab": {
          "base_uri": "https://localhost:8080/",
          "height": 340
        },
        "id": "Mfu7tpDrieLz",
        "outputId": "d4324ef0-92f5-4773-ff28-586cac4ef189"
      },
      "source": [
        "impfungen.head()"
      ],
      "execution_count": null,
      "outputs": [
        {
          "output_type": "execute_result",
          "data": {
            "text/html": [
              "<div>\n",
              "<style scoped>\n",
              "    .dataframe tbody tr th:only-of-type {\n",
              "        vertical-align: middle;\n",
              "    }\n",
              "\n",
              "    .dataframe tbody tr th {\n",
              "        vertical-align: top;\n",
              "    }\n",
              "\n",
              "    .dataframe thead th {\n",
              "        text-align: right;\n",
              "    }\n",
              "</style>\n",
              "<table border=\"1\" class=\"dataframe\">\n",
              "  <thead>\n",
              "    <tr style=\"text-align: right;\">\n",
              "      <th></th>\n",
              "      <th>location</th>\n",
              "      <th>iso_code</th>\n",
              "      <th>total_vaccinations</th>\n",
              "      <th>people_vaccinated</th>\n",
              "      <th>people_fully_vaccinated</th>\n",
              "      <th>daily_vaccinations_raw</th>\n",
              "      <th>daily_vaccinations</th>\n",
              "      <th>total_vaccinations_per_hundred</th>\n",
              "      <th>people_vaccinated_per_hundred</th>\n",
              "      <th>people_fully_vaccinated_per_hundred</th>\n",
              "      <th>daily_vaccinations_per_million</th>\n",
              "    </tr>\n",
              "    <tr>\n",
              "      <th>Date</th>\n",
              "      <th></th>\n",
              "      <th></th>\n",
              "      <th></th>\n",
              "      <th></th>\n",
              "      <th></th>\n",
              "      <th></th>\n",
              "      <th></th>\n",
              "      <th></th>\n",
              "      <th></th>\n",
              "      <th></th>\n",
              "      <th></th>\n",
              "    </tr>\n",
              "  </thead>\n",
              "  <tbody>\n",
              "    <tr>\n",
              "      <th>2021-02-22</th>\n",
              "      <td>Afghanistan</td>\n",
              "      <td>AFG</td>\n",
              "      <td>0.0</td>\n",
              "      <td>0.0</td>\n",
              "      <td>NaN</td>\n",
              "      <td>NaN</td>\n",
              "      <td>NaN</td>\n",
              "      <td>0.0</td>\n",
              "      <td>0.0</td>\n",
              "      <td>NaN</td>\n",
              "      <td>NaN</td>\n",
              "    </tr>\n",
              "    <tr>\n",
              "      <th>2021-02-23</th>\n",
              "      <td>Afghanistan</td>\n",
              "      <td>AFG</td>\n",
              "      <td>NaN</td>\n",
              "      <td>NaN</td>\n",
              "      <td>NaN</td>\n",
              "      <td>NaN</td>\n",
              "      <td>1367.0</td>\n",
              "      <td>NaN</td>\n",
              "      <td>NaN</td>\n",
              "      <td>NaN</td>\n",
              "      <td>35.0</td>\n",
              "    </tr>\n",
              "    <tr>\n",
              "      <th>2021-02-24</th>\n",
              "      <td>Afghanistan</td>\n",
              "      <td>AFG</td>\n",
              "      <td>NaN</td>\n",
              "      <td>NaN</td>\n",
              "      <td>NaN</td>\n",
              "      <td>NaN</td>\n",
              "      <td>1367.0</td>\n",
              "      <td>NaN</td>\n",
              "      <td>NaN</td>\n",
              "      <td>NaN</td>\n",
              "      <td>35.0</td>\n",
              "    </tr>\n",
              "    <tr>\n",
              "      <th>2021-02-25</th>\n",
              "      <td>Afghanistan</td>\n",
              "      <td>AFG</td>\n",
              "      <td>NaN</td>\n",
              "      <td>NaN</td>\n",
              "      <td>NaN</td>\n",
              "      <td>NaN</td>\n",
              "      <td>1367.0</td>\n",
              "      <td>NaN</td>\n",
              "      <td>NaN</td>\n",
              "      <td>NaN</td>\n",
              "      <td>35.0</td>\n",
              "    </tr>\n",
              "    <tr>\n",
              "      <th>2021-02-26</th>\n",
              "      <td>Afghanistan</td>\n",
              "      <td>AFG</td>\n",
              "      <td>NaN</td>\n",
              "      <td>NaN</td>\n",
              "      <td>NaN</td>\n",
              "      <td>NaN</td>\n",
              "      <td>1367.0</td>\n",
              "      <td>NaN</td>\n",
              "      <td>NaN</td>\n",
              "      <td>NaN</td>\n",
              "      <td>35.0</td>\n",
              "    </tr>\n",
              "  </tbody>\n",
              "</table>\n",
              "</div>"
            ],
            "text/plain": [
              "               location  ... daily_vaccinations_per_million\n",
              "Date                     ...                               \n",
              "2021-02-22  Afghanistan  ...                            NaN\n",
              "2021-02-23  Afghanistan  ...                           35.0\n",
              "2021-02-24  Afghanistan  ...                           35.0\n",
              "2021-02-25  Afghanistan  ...                           35.0\n",
              "2021-02-26  Afghanistan  ...                           35.0\n",
              "\n",
              "[5 rows x 11 columns]"
            ]
          },
          "metadata": {
            "tags": []
          },
          "execution_count": 248
        }
      ]
    },
    {
      "cell_type": "markdown",
      "metadata": {
        "id": "NVQF3p7ggiGk"
      },
      "source": [
        "Der Datensatz besteht aus 12 Spalten die im folgenden kurz beschrieben werden:\n",
        "- location: Land\n",
        "- iso_code: Kodierung des Landes\n",
        "- date: Datum\n",
        "- total_vaccinations: Anzahl Impfungen\n",
        "- people_vaccinated: Geimpfte Personen\n",
        "- people_fully_vaccinated: Vollständig geimpfte Personen\n",
        "- daily_vaccinations_raw: Tägliche Impfungen (Roh)\n",
        "- daily_vaccinations: Tägliche Impfungen\n",
        "- total_vaccinations_per_hundred: Anzahl Impfungen auf 100 Einwohner\n",
        "- people_vaccinated_per_hundred: Anzahl geimpfte Personen auf 100 Einwohner\n",
        "- people_fully_vaccinated_per_hundred: Anzahl vollständig geimpfte Personen auf 100 Einwohner\n",
        "- daily_vaccinations_per_million: Anzahl Impfungen auf eine Millionen Einwohner"
      ]
    },
    {
      "cell_type": "markdown",
      "metadata": {
        "id": "RLaohBCmhpXw"
      },
      "source": [
        "# 3. Data Preperation\n",
        "Verbesserung der Datenqualität durch:\n",
        "\n",
        "*   Zusammenfassen zu einem Dataframe\n",
        "*   Löschen von Zellen\n",
        "*   Leere Zellen\n",
        "\n"
      ]
    },
    {
      "cell_type": "markdown",
      "metadata": {
        "id": "QVodIZhPsASO"
      },
      "source": [
        "## 3.1 Zusammenfassen zu einem Datensatz"
      ]
    },
    {
      "cell_type": "code",
      "metadata": {
        "id": "gX1pv3hHr_Xk"
      },
      "source": [
        "# geht das?"
      ],
      "execution_count": null,
      "outputs": []
    },
    {
      "cell_type": "markdown",
      "metadata": {
        "id": "rrW2lzoJi1VZ"
      },
      "source": [
        "## 3.2 Daten säubern\n",
        "\n",
        "*   Prüfung und Umgang mit fehlenden Daten\n",
        "\n"
      ]
    },
    {
      "cell_type": "code",
      "metadata": {
        "colab": {
          "base_uri": "https://localhost:8080/"
        },
        "id": "28byP-jEkR8l",
        "outputId": "cc2744ca-8275-4d4b-a5ae-5a43baabe044"
      },
      "source": [
        "def get_null_columns(df):\n",
        "      print(\"Es fehlen\",str(df.isnull().sum().sum()), \"Einträge in\", str(df.name))\n",
        "      return [index for index in df.isnull().sum().index if df.isnull().sum()[index] > 0]\n",
        "\n",
        "fallzahlen_null_columns = get_null_columns(fallzahlen)\n",
        "impfungen_null_columns = get_null_columns(impfungen)\n",
        "print(\"fehlende Spalten in Fallzahlen\",fallzahlen_null_columns)\n",
        "print(\"fehlende Spalten in Impfungen\",impfungen_null_columns)"
      ],
      "execution_count": null,
      "outputs": [
        {
          "output_type": "stream",
          "text": [
            "Es fehlen 2415 Einträge in Fallzahlen\n",
            "Es fehlen 71691 Einträge in Impfungen\n",
            "fehlende Spalten in Fallzahlen ['TenCase']\n",
            "fehlende Spalten in Impfungen ['total_vaccinations', 'people_vaccinated', 'people_fully_vaccinated', 'daily_vaccinations_raw', 'daily_vaccinations', 'total_vaccinations_per_hundred', 'people_vaccinated_per_hundred', 'people_fully_vaccinated_per_hundred', 'daily_vaccinations_per_million']\n"
          ],
          "name": "stdout"
        }
      ]
    },
    {
      "cell_type": "markdown",
      "metadata": {
        "id": "6xaLR6fujZcA"
      },
      "source": [
        "Im Datensatz Fallzahlen fehlen nur in der Spalte \"TenCase\" Daten. Da die Spalte für die Auswertung nicht weiter relevant ist, wird sie gelöscht."
      ]
    },
    {
      "cell_type": "code",
      "metadata": {
        "colab": {
          "base_uri": "https://localhost:8080/"
        },
        "id": "-7NoG2OjiX9N",
        "outputId": "d50d1aa3-8b82-45b7-a21c-7480e44b5f69"
      },
      "source": [
        "try:\n",
        "  fallzahlen.drop(columns=\"TenCase\", inplace = True, axis = 1)\n",
        "except:\n",
        "  print(\"Zelle bereits ausgeführt\")\n",
        "\n",
        "print(\"Es fehlen \",str(fallzahlen.isnull().sum().sum()), \" Einträge in Fallzahlen\")"
      ],
      "execution_count": null,
      "outputs": [
        {
          "output_type": "stream",
          "text": [
            "Es fehlen  0  Einträge in Fallzahlen\n"
          ],
          "name": "stdout"
        }
      ]
    },
    {
      "cell_type": "markdown",
      "metadata": {
        "id": "7E9Bb5Yfrvjm"
      },
      "source": [
        "Im Datensatz \"Impfungen\" fehlen in 9 von 12 Spalten Werte."
      ]
    },
    {
      "cell_type": "code",
      "metadata": {
        "colab": {
          "base_uri": "https://localhost:8080/"
        },
        "id": "bB-cIy92ijn7",
        "outputId": "1f5ff83b-514e-4a73-da6d-b50f3f6edefa"
      },
      "source": [
        "impfungen.isnull().sum()"
      ],
      "execution_count": null,
      "outputs": [
        {
          "output_type": "execute_result",
          "data": {
            "text/plain": [
              "location                                   0\n",
              "iso_code                                   0\n",
              "total_vaccinations                      8692\n",
              "people_vaccinated                       9444\n",
              "people_fully_vaccinated                12165\n",
              "daily_vaccinations_raw                 10637\n",
              "daily_vaccinations                       226\n",
              "total_vaccinations_per_hundred          8692\n",
              "people_vaccinated_per_hundred           9444\n",
              "people_fully_vaccinated_per_hundred    12165\n",
              "daily_vaccinations_per_million           226\n",
              "dtype: int64"
            ]
          },
          "metadata": {
            "tags": []
          },
          "execution_count": 252
        }
      ]
    },
    {
      "cell_type": "markdown",
      "metadata": {
        "id": "WrhVpKnc1LBb"
      },
      "source": [
        "- unklare Datenlage in vielen Ländern\n",
        "- Auswahl der Länder mit der besten Datenlage"
      ]
    },
    {
      "cell_type": "code",
      "metadata": {
        "colab": {
          "base_uri": "https://localhost:8080/"
        },
        "id": "i1Q4MelZwae8",
        "outputId": "3b33775b-c498-4e07-ee1b-b7389bf05608"
      },
      "source": [
        "locations = impfungen[\"location\"].unique()\n",
        "location_null_count = {}\n",
        "for location in locations:\n",
        "  null_count_abs = impfungen[impfungen[\"location\"] == location].isnull().sum().sum()\n",
        "  len_rows = len(impfungen[impfungen[\"location\"] == location])\n",
        "  len_columns = len(impfungen[impfungen[\"location\"] == location].columns)\n",
        "\n",
        "  null_count_rel = 100*null_count_abs/(len_rows*len_columns)\n",
        "\n",
        "  location_null_count[location] = [null_count_abs, null_count_rel]\n",
        "location_null_count = df.from_dict(location_null_count, orient='index', columns=[\"abs. Null Values\", \"rel. Null Values\"])\n",
        "location_null_count\n",
        "location_null_count[\"rel. Null Values\"].sort_values().head()"
      ],
      "execution_count": null,
      "outputs": [
        {
          "output_type": "execute_result",
          "data": {
            "text/plain": [
              "Germany           0.183038\n",
              "European Union    0.183038\n",
              "Scotland          0.621118\n",
              "England           0.684932\n",
              "Belgium           0.798526\n",
              "Name: rel. Null Values, dtype: float64"
            ]
          },
          "metadata": {
            "tags": []
          },
          "execution_count": 253
        }
      ]
    },
    {
      "cell_type": "markdown",
      "metadata": {
        "id": "nG9Y2pay1RlZ"
      },
      "source": [
        "Länder Auswahl:\n",
        "\n",
        "*   Europa: Deutschland (Germany)\n",
        "*   Nordamerika: USA (United States )\n",
        "*   Südamerika: Chile \n",
        "*   ....\n",
        "\n"
      ]
    },
    {
      "cell_type": "markdown",
      "metadata": {
        "id": "PqZe0IBi2Qtk"
      },
      "source": [
        "## Datensatz zusammenfassen"
      ]
    },
    {
      "cell_type": "code",
      "metadata": {
        "id": "50VOg2GaCbVA"
      },
      "source": [
        "fallzahlen_germany = fallzahlen[fallzahlen[\"Country\"] == \"Germany\"]\n",
        "impfungen_germany = impfungen[impfungen[\"location\"] == \"Germany\"]\n",
        "dataset_germany = pd.concat([fallzahlen_germany, impfungen_germany], axis=1)"
      ],
      "execution_count": null,
      "outputs": []
    },
    {
      "cell_type": "code",
      "metadata": {
        "colab": {
          "base_uri": "https://localhost:8080/"
        },
        "id": "1OnYyAVa5Fot",
        "outputId": "c5eddb57-571e-46ce-da8d-1c8fd983d46f"
      },
      "source": [
        "try:\n",
        "  dataset = pd.concat([fallzahlen, impfungen], axis=1)\n",
        "  print(\"Datensatz zusammengefügt\")\n",
        "  dataset.head()\n",
        "\n",
        "except:\n",
        "  print(\"Datensatz bereits zusammengefügt\")\n",
        "  dataset.head()"
      ],
      "execution_count": null,
      "outputs": [
        {
          "output_type": "stream",
          "text": [
            "Datensatz bereits zusammengefügt\n"
          ],
          "name": "stdout"
        }
      ]
    },
    {
      "cell_type": "code",
      "metadata": {
        "colab": {
          "base_uri": "https://localhost:8080/",
          "height": 293
        },
        "id": "4I22qMNeDEcQ",
        "outputId": "2bf02b58-43c8-4098-c70b-9bc7f355a286"
      },
      "source": [
        "sns.lineplot(x = dataset_germany.index, y= \"Confirmed\", data=dataset_germany)"
      ],
      "execution_count": null,
      "outputs": [
        {
          "output_type": "execute_result",
          "data": {
            "text/plain": [
              "<matplotlib.axes._subplots.AxesSubplot at 0x7faccd6a9d90>"
            ]
          },
          "metadata": {
            "tags": []
          },
          "execution_count": 266
        },
        {
          "output_type": "display_data",
          "data": {
            "image/png": "[encoded data removed]",
            "text/plain": [
              "<Figure size 432x288 with 1 Axes>"
            ]
          },
          "metadata": {
            "tags": [],
            "needs_background": "light"
          }
        }
      ]
    },
    {
      "cell_type": "markdown",
      "metadata": {
        "id": "p8zdWpC72QDP"
      },
      "source": [
        ""
      ]
    }
  ]
}