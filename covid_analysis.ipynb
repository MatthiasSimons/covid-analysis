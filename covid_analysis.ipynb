{
 "cells": [
  {
   "cell_type": "markdown",
   "metadata": {
    "colab_type": "text",
    "id": "view-in-github"
   },
   "source": [
    "<a href=\"https://colab.research.google.com/github/MatthiasSimons/covid-analysis/blob/main/covid_analysis.ipynb\" target=\"_parent\"><img src=\"https://colab.research.google.com/assets/colab-badge.svg\" alt=\"Open In Colab\"/></a>"
   ]
  },
  {
   "cell_type": "markdown",
   "metadata": {
    "id": "xhvCqeoGgOmp"
   },
   "source": [
    "# Programmierung und Auswertung großer Datenmengen\n",
    "## Analyse der Covid-19 Fallzahlen und Impfungen"
   ]
  },
  {
   "cell_type": "markdown",
   "metadata": {
    "id": "YaIRV8imeQyg"
   },
   "source": [
    "# Einleitung\n",
    "...\n",
    "\n",
    "Vorgehensweise\n",
    "\n",
    "\n",
    "*   Importieren\n",
    "*   Bereinigen\n",
    "*   Modifizieren\n",
    "*   Modellieren\n",
    "*   Validieren\n",
    "*   Bewerten\n",
    "*   Zusammenfassen"
   ]
  },
  {
   "cell_type": "markdown",
   "metadata": {
    "id": "1VUxuKdXdkPg"
   },
   "source": [
    "# Gliederung\n",
    "CRoos Industry Standard Process for Data Mining (CRISP-DM)\n",
    "\n",
    "1.   Business Understanding\n",
    "2.   Data Understanding\n",
    "3.   Data Preperation\n",
    "4.   Modelling\n",
    "5.   .... \n",
    "\n"
   ]
  },
  {
   "cell_type": "markdown",
   "metadata": {
    "id": "SpoDgDbPge47"
   },
   "source": [
    "## Vorbereitung\n",
    "\n",
    "Importieren der Bibliotheken\n",
    "\n"
   ]
  },
  {
   "cell_type": "code",
   "execution_count": 2,
   "metadata": {
    "id": "WUpSJdMgTFJr"
   },
   "outputs": [],
   "source": [
    "import pandas as pd\n",
    "import matplotlib.pyplot as plt\n",
    "import seaborn as sns\n",
    "import numpy as np\n",
    "\n",
    "import pycountry_convert as pc"
   ]
  },
  {
   "cell_type": "markdown",
   "metadata": {
    "id": "00xAlwSkei68"
   },
   "source": [
    "# 1. Business Understanding\n",
    "... "
   ]
  },
  {
   "cell_type": "markdown",
   "metadata": {
    "id": "x6LIIa-_eoSI"
   },
   "source": [
    "# 2. Data Understanding\n",
    "- zwei Datensätze über die Covid19 Fallzahlen und Impfrate (Link einfügen)"
   ]
  },
  {
   "cell_type": "markdown",
   "metadata": {
    "id": "B4THF19Ig9bv"
   },
   "source": [
    "## 2.1 Importieren der Daten"
   ]
  },
  {
   "cell_type": "code",
   "execution_count": 35,
   "metadata": {
    "id": "T_FcVpchTUgh"
   },
   "outputs": [],
   "source": [
    "url_fallzahlen = \"https://raw.githubusercontent.com/ocaktans/Gathering-Covid-19-Data/73623b5057979a4bca4ffdf931cc29222ad7a58e/Covid-19%20Dataset.csv\"\n",
    "url_impfungen = \"https://raw.githubusercontent.com/owid/covid-19-data/master/public/data/vaccinations/vaccinations.csv\"\n",
    "fallzahlen = pd.read_csv(url_fallzahlen, sep=',')\n",
    "#fallzahlen.to_csv(r\"data/fallzahlen.csv\")\n",
    "\n",
    "fallzahlen.name = \"Fallzahlen\"\n",
    "impfungen = pd.read_csv(url_impfungen, sep=',')\n",
    "#impfungen.to_csv(r\"data/impfungen.csv\")\n",
    "impfungen.name = \"Impfungen\"\n",
    "\n",
    "fallzahlen.set_index([\"Date\"], inplace = True)\n",
    "impfungen.rename(columns = {\"date\": \"Date\"}, inplace = True)\n",
    "impfungen.set_index([\"Date\"], inplace = True)"
   ]
  },
  {
   "cell_type": "markdown",
   "metadata": {
    "id": "mIGB-a6bhC03"
   },
   "source": [
    "## 2.2 Beschreibung der Daten"
   ]
  },
  {
   "cell_type": "markdown",
   "metadata": {
    "id": "i1zdYaimhFGl"
   },
   "source": [
    "### Datensatz: Covid-19 Fallzahlen"
   ]
  },
  {
   "cell_type": "markdown",
   "metadata": {
    "id": "6GtKb_KIhwCc"
   },
   "source": [
    "Bei dem Covid-19-Data Datensatz handelt es sich um einen Datensatz der die Entwicklung der Covid-19 Fallzahlen weltweit täglich abbildet."
   ]
  },
  {
   "cell_type": "code",
   "execution_count": 36,
   "metadata": {
    "colab": {
     "base_uri": "https://localhost:8080/",
     "height": 337
    },
    "id": "2JayC3ZwTY1i",
    "outputId": "eba83386-fbef-4663-9a88-53ef0b0e509d"
   },
   "outputs": [
    {
     "data": {
      "text/html": [
       "<div>\n",
       "<style scoped>\n",
       "    .dataframe tbody tr th:only-of-type {\n",
       "        vertical-align: middle;\n",
       "    }\n",
       "\n",
       "    .dataframe tbody tr th {\n",
       "        vertical-align: top;\n",
       "    }\n",
       "\n",
       "    .dataframe thead th {\n",
       "        text-align: right;\n",
       "    }\n",
       "</style>\n",
       "<table border=\"1\" class=\"dataframe\">\n",
       "  <thead>\n",
       "    <tr style=\"text-align: right;\">\n",
       "      <th></th>\n",
       "      <th>Unnamed: 0</th>\n",
       "      <th>Country</th>\n",
       "      <th>Confirmed</th>\n",
       "      <th>Recovered</th>\n",
       "      <th>Deaths</th>\n",
       "      <th>Active Cases</th>\n",
       "      <th>Death Rate(%)</th>\n",
       "      <th>Increase</th>\n",
       "      <th>FirstDays</th>\n",
       "      <th>day_xth</th>\n",
       "      <th>Population_1k</th>\n",
       "      <th>TenCase</th>\n",
       "      <th>Cases/1000s</th>\n",
       "    </tr>\n",
       "    <tr>\n",
       "      <th>Date</th>\n",
       "      <th></th>\n",
       "      <th></th>\n",
       "      <th></th>\n",
       "      <th></th>\n",
       "      <th></th>\n",
       "      <th></th>\n",
       "      <th></th>\n",
       "      <th></th>\n",
       "      <th></th>\n",
       "      <th></th>\n",
       "      <th></th>\n",
       "      <th></th>\n",
       "      <th></th>\n",
       "    </tr>\n",
       "  </thead>\n",
       "  <tbody>\n",
       "    <tr>\n",
       "      <th>2020-01-22</th>\n",
       "      <td>0</td>\n",
       "      <td>Afghanistan</td>\n",
       "      <td>0</td>\n",
       "      <td>0</td>\n",
       "      <td>0</td>\n",
       "      <td>0</td>\n",
       "      <td>0.0</td>\n",
       "      <td>0</td>\n",
       "      <td>2020-02-24</td>\n",
       "      <td>0</td>\n",
       "      <td>38928</td>\n",
       "      <td>2020-03-11</td>\n",
       "      <td>0.0</td>\n",
       "    </tr>\n",
       "    <tr>\n",
       "      <th>2020-01-23</th>\n",
       "      <td>1</td>\n",
       "      <td>Afghanistan</td>\n",
       "      <td>0</td>\n",
       "      <td>0</td>\n",
       "      <td>0</td>\n",
       "      <td>0</td>\n",
       "      <td>0.0</td>\n",
       "      <td>0</td>\n",
       "      <td>2020-02-24</td>\n",
       "      <td>0</td>\n",
       "      <td>38928</td>\n",
       "      <td>2020-03-11</td>\n",
       "      <td>0.0</td>\n",
       "    </tr>\n",
       "    <tr>\n",
       "      <th>2020-01-24</th>\n",
       "      <td>2</td>\n",
       "      <td>Afghanistan</td>\n",
       "      <td>0</td>\n",
       "      <td>0</td>\n",
       "      <td>0</td>\n",
       "      <td>0</td>\n",
       "      <td>0.0</td>\n",
       "      <td>0</td>\n",
       "      <td>2020-02-24</td>\n",
       "      <td>0</td>\n",
       "      <td>38928</td>\n",
       "      <td>2020-03-11</td>\n",
       "      <td>0.0</td>\n",
       "    </tr>\n",
       "    <tr>\n",
       "      <th>2020-01-25</th>\n",
       "      <td>3</td>\n",
       "      <td>Afghanistan</td>\n",
       "      <td>0</td>\n",
       "      <td>0</td>\n",
       "      <td>0</td>\n",
       "      <td>0</td>\n",
       "      <td>0.0</td>\n",
       "      <td>0</td>\n",
       "      <td>2020-02-24</td>\n",
       "      <td>0</td>\n",
       "      <td>38928</td>\n",
       "      <td>2020-03-11</td>\n",
       "      <td>0.0</td>\n",
       "    </tr>\n",
       "    <tr>\n",
       "      <th>2020-01-26</th>\n",
       "      <td>4</td>\n",
       "      <td>Afghanistan</td>\n",
       "      <td>0</td>\n",
       "      <td>0</td>\n",
       "      <td>0</td>\n",
       "      <td>0</td>\n",
       "      <td>0.0</td>\n",
       "      <td>0</td>\n",
       "      <td>2020-02-24</td>\n",
       "      <td>0</td>\n",
       "      <td>38928</td>\n",
       "      <td>2020-03-11</td>\n",
       "      <td>0.0</td>\n",
       "    </tr>\n",
       "  </tbody>\n",
       "</table>\n",
       "</div>"
      ],
      "text/plain": [
       "            Unnamed: 0      Country  Confirmed  Recovered  Deaths  \\\n",
       "Date                                                                \n",
       "2020-01-22           0  Afghanistan          0          0       0   \n",
       "2020-01-23           1  Afghanistan          0          0       0   \n",
       "2020-01-24           2  Afghanistan          0          0       0   \n",
       "2020-01-25           3  Afghanistan          0          0       0   \n",
       "2020-01-26           4  Afghanistan          0          0       0   \n",
       "\n",
       "            Active Cases  Death Rate(%)  Increase   FirstDays  day_xth  \\\n",
       "Date                                                                     \n",
       "2020-01-22             0            0.0         0  2020-02-24        0   \n",
       "2020-01-23             0            0.0         0  2020-02-24        0   \n",
       "2020-01-24             0            0.0         0  2020-02-24        0   \n",
       "2020-01-25             0            0.0         0  2020-02-24        0   \n",
       "2020-01-26             0            0.0         0  2020-02-24        0   \n",
       "\n",
       "            Population_1k     TenCase  Cases/1000s  \n",
       "Date                                                \n",
       "2020-01-22          38928  2020-03-11          0.0  \n",
       "2020-01-23          38928  2020-03-11          0.0  \n",
       "2020-01-24          38928  2020-03-11          0.0  \n",
       "2020-01-25          38928  2020-03-11          0.0  \n",
       "2020-01-26          38928  2020-03-11          0.0  "
      ]
     },
     "execution_count": 36,
     "metadata": {},
     "output_type": "execute_result"
    }
   ],
   "source": [
    "fallzahlen.head()"
   ]
  },
  {
   "cell_type": "markdown",
   "metadata": {
    "id": "LKonYiMrZTO6"
   },
   "source": [
    "Der Datensatz besteht aus 14 Spalten die im folgenden kurz beschrieben werden:\n",
    "- Country: Land\n",
    "- Date: Datum\n",
    "- Confirmed: Kumulative bestätigte Fälle\n",
    "- Recovered: Kumulative Genesene Fälle\n",
    "- Deaths: Kumulative Verstorbene\n",
    "- Active Cases: Aktive Fälle\n",
    "- Death Rate(%):\n",
    "- Increase: Tägliche Steigerung der bestätigten Fälle\n",
    "- FirstDays: Tag an dem der erste Fall gemeldet wurde\n",
    "- day_xth: verstrichene Tage seit dem ersten gemeldeten Fall\n",
    "- Population_1k: Einwohnerzahl in Tausend\n",
    "- TenCase: Tag an dem Zehn Fälle gemeldet wurden\n",
    "- Cases/1000s: Fälle pro Tausend Einwohner"
   ]
  },
  {
   "cell_type": "markdown",
   "metadata": {
    "id": "FJFzzmkGicod"
   },
   "source": [
    "### Datensatz: Covid-19 Impfrate"
   ]
  },
  {
   "cell_type": "markdown",
   "metadata": {
    "id": "l5C3CEqhipr0"
   },
   "source": [
    "Bei diesem Datensatz handelt es sich um einen Datensatz der die Entwicklung der Covid-19 Impfungen weltweit täglich abbildet"
   ]
  },
  {
   "cell_type": "code",
   "execution_count": 37,
   "metadata": {
    "colab": {
     "base_uri": "https://localhost:8080/",
     "height": 340
    },
    "id": "Mfu7tpDrieLz",
    "outputId": "d4324ef0-92f5-4773-ff28-586cac4ef189"
   },
   "outputs": [
    {
     "data": {
      "text/html": [
       "<div>\n",
       "<style scoped>\n",
       "    .dataframe tbody tr th:only-of-type {\n",
       "        vertical-align: middle;\n",
       "    }\n",
       "\n",
       "    .dataframe tbody tr th {\n",
       "        vertical-align: top;\n",
       "    }\n",
       "\n",
       "    .dataframe thead th {\n",
       "        text-align: right;\n",
       "    }\n",
       "</style>\n",
       "<table border=\"1\" class=\"dataframe\">\n",
       "  <thead>\n",
       "    <tr style=\"text-align: right;\">\n",
       "      <th></th>\n",
       "      <th>location</th>\n",
       "      <th>iso_code</th>\n",
       "      <th>total_vaccinations</th>\n",
       "      <th>people_vaccinated</th>\n",
       "      <th>people_fully_vaccinated</th>\n",
       "      <th>daily_vaccinations_raw</th>\n",
       "      <th>daily_vaccinations</th>\n",
       "      <th>total_vaccinations_per_hundred</th>\n",
       "      <th>people_vaccinated_per_hundred</th>\n",
       "      <th>people_fully_vaccinated_per_hundred</th>\n",
       "      <th>daily_vaccinations_per_million</th>\n",
       "    </tr>\n",
       "    <tr>\n",
       "      <th>Date</th>\n",
       "      <th></th>\n",
       "      <th></th>\n",
       "      <th></th>\n",
       "      <th></th>\n",
       "      <th></th>\n",
       "      <th></th>\n",
       "      <th></th>\n",
       "      <th></th>\n",
       "      <th></th>\n",
       "      <th></th>\n",
       "      <th></th>\n",
       "    </tr>\n",
       "  </thead>\n",
       "  <tbody>\n",
       "    <tr>\n",
       "      <th>2021-02-22</th>\n",
       "      <td>Afghanistan</td>\n",
       "      <td>AFG</td>\n",
       "      <td>0.0</td>\n",
       "      <td>0.0</td>\n",
       "      <td>NaN</td>\n",
       "      <td>NaN</td>\n",
       "      <td>NaN</td>\n",
       "      <td>0.0</td>\n",
       "      <td>0.0</td>\n",
       "      <td>NaN</td>\n",
       "      <td>NaN</td>\n",
       "    </tr>\n",
       "    <tr>\n",
       "      <th>2021-02-23</th>\n",
       "      <td>Afghanistan</td>\n",
       "      <td>AFG</td>\n",
       "      <td>NaN</td>\n",
       "      <td>NaN</td>\n",
       "      <td>NaN</td>\n",
       "      <td>NaN</td>\n",
       "      <td>1367.0</td>\n",
       "      <td>NaN</td>\n",
       "      <td>NaN</td>\n",
       "      <td>NaN</td>\n",
       "      <td>35.0</td>\n",
       "    </tr>\n",
       "    <tr>\n",
       "      <th>2021-02-24</th>\n",
       "      <td>Afghanistan</td>\n",
       "      <td>AFG</td>\n",
       "      <td>NaN</td>\n",
       "      <td>NaN</td>\n",
       "      <td>NaN</td>\n",
       "      <td>NaN</td>\n",
       "      <td>1367.0</td>\n",
       "      <td>NaN</td>\n",
       "      <td>NaN</td>\n",
       "      <td>NaN</td>\n",
       "      <td>35.0</td>\n",
       "    </tr>\n",
       "    <tr>\n",
       "      <th>2021-02-25</th>\n",
       "      <td>Afghanistan</td>\n",
       "      <td>AFG</td>\n",
       "      <td>NaN</td>\n",
       "      <td>NaN</td>\n",
       "      <td>NaN</td>\n",
       "      <td>NaN</td>\n",
       "      <td>1367.0</td>\n",
       "      <td>NaN</td>\n",
       "      <td>NaN</td>\n",
       "      <td>NaN</td>\n",
       "      <td>35.0</td>\n",
       "    </tr>\n",
       "    <tr>\n",
       "      <th>2021-02-26</th>\n",
       "      <td>Afghanistan</td>\n",
       "      <td>AFG</td>\n",
       "      <td>NaN</td>\n",
       "      <td>NaN</td>\n",
       "      <td>NaN</td>\n",
       "      <td>NaN</td>\n",
       "      <td>1367.0</td>\n",
       "      <td>NaN</td>\n",
       "      <td>NaN</td>\n",
       "      <td>NaN</td>\n",
       "      <td>35.0</td>\n",
       "    </tr>\n",
       "  </tbody>\n",
       "</table>\n",
       "</div>"
      ],
      "text/plain": [
       "               location iso_code  total_vaccinations  people_vaccinated  \\\n",
       "Date                                                                      \n",
       "2021-02-22  Afghanistan      AFG                 0.0                0.0   \n",
       "2021-02-23  Afghanistan      AFG                 NaN                NaN   \n",
       "2021-02-24  Afghanistan      AFG                 NaN                NaN   \n",
       "2021-02-25  Afghanistan      AFG                 NaN                NaN   \n",
       "2021-02-26  Afghanistan      AFG                 NaN                NaN   \n",
       "\n",
       "            people_fully_vaccinated  daily_vaccinations_raw  \\\n",
       "Date                                                          \n",
       "2021-02-22                      NaN                     NaN   \n",
       "2021-02-23                      NaN                     NaN   \n",
       "2021-02-24                      NaN                     NaN   \n",
       "2021-02-25                      NaN                     NaN   \n",
       "2021-02-26                      NaN                     NaN   \n",
       "\n",
       "            daily_vaccinations  total_vaccinations_per_hundred  \\\n",
       "Date                                                             \n",
       "2021-02-22                 NaN                             0.0   \n",
       "2021-02-23              1367.0                             NaN   \n",
       "2021-02-24              1367.0                             NaN   \n",
       "2021-02-25              1367.0                             NaN   \n",
       "2021-02-26              1367.0                             NaN   \n",
       "\n",
       "            people_vaccinated_per_hundred  \\\n",
       "Date                                        \n",
       "2021-02-22                            0.0   \n",
       "2021-02-23                            NaN   \n",
       "2021-02-24                            NaN   \n",
       "2021-02-25                            NaN   \n",
       "2021-02-26                            NaN   \n",
       "\n",
       "            people_fully_vaccinated_per_hundred  \\\n",
       "Date                                              \n",
       "2021-02-22                                  NaN   \n",
       "2021-02-23                                  NaN   \n",
       "2021-02-24                                  NaN   \n",
       "2021-02-25                                  NaN   \n",
       "2021-02-26                                  NaN   \n",
       "\n",
       "            daily_vaccinations_per_million  \n",
       "Date                                        \n",
       "2021-02-22                             NaN  \n",
       "2021-02-23                            35.0  \n",
       "2021-02-24                            35.0  \n",
       "2021-02-25                            35.0  \n",
       "2021-02-26                            35.0  "
      ]
     },
     "execution_count": 37,
     "metadata": {},
     "output_type": "execute_result"
    }
   ],
   "source": [
    "impfungen.head()"
   ]
  },
  {
   "cell_type": "markdown",
   "metadata": {
    "id": "NVQF3p7ggiGk"
   },
   "source": [
    "Der Datensatz besteht aus 12 Spalten die im folgenden kurz beschrieben werden:\n",
    "- location: Land\n",
    "- iso_code: Kodierung des Landes\n",
    "- date: Datum\n",
    "- total_vaccinations: Anzahl Impfungen\n",
    "- people_vaccinated: Geimpfte Personen\n",
    "- people_fully_vaccinated: Vollständig geimpfte Personen\n",
    "- daily_vaccinations_raw: Tägliche Impfungen (Roh)\n",
    "- daily_vaccinations: Tägliche Impfungen\n",
    "- total_vaccinations_per_hundred: Anzahl Impfungen auf 100 Einwohner\n",
    "- people_vaccinated_per_hundred: Anzahl geimpfte Personen auf 100 Einwohner\n",
    "- people_fully_vaccinated_per_hundred: Anzahl vollständig geimpfte Personen auf 100 Einwohner\n",
    "- daily_vaccinations_per_million: Anzahl Impfungen auf eine Millionen Einwohner"
   ]
  },
  {
   "cell_type": "markdown",
   "metadata": {
    "id": "RLaohBCmhpXw"
   },
   "source": [
    "# 3. Data Preperation\n",
    "Verbesserung der Datenqualität durch:\n",
    "\n",
    "*   Zusammenfassen zu einem Dataframe\n",
    "*   Löschen von Zellen\n",
    "*   Leere Zellen\n",
    "\n"
   ]
  },
  {
   "cell_type": "markdown",
   "metadata": {
    "id": "rrW2lzoJi1VZ"
   },
   "source": [
    "## 3.1 Daten säubern\n",
    "\n",
    "*   Prüfung und Umgang mit fehlenden Daten\n",
    "\n"
   ]
  },
  {
   "cell_type": "code",
   "execution_count": 38,
   "metadata": {
    "colab": {
     "base_uri": "https://localhost:8080/"
    },
    "id": "28byP-jEkR8l",
    "outputId": "cc2744ca-8275-4d4b-a5ae-5a43baabe044"
   },
   "outputs": [
    {
     "name": "stdout",
     "output_type": "stream",
     "text": [
      "Es fehlen 2415 Einträge in Fallzahlen\n",
      "Es fehlen 114360 Einträge in Impfungen\n",
      "unvollständige Spalten in Fallzahlen ['TenCase']\n",
      "unvollständige Spalten in Impfungen ['total_vaccinations', 'people_vaccinated', 'people_fully_vaccinated', 'daily_vaccinations_raw', 'daily_vaccinations', 'total_vaccinations_per_hundred', 'people_vaccinated_per_hundred', 'people_fully_vaccinated_per_hundred', 'daily_vaccinations_per_million']\n"
     ]
    }
   ],
   "source": [
    "def get_null_columns(df):\n",
    "    print(\"Es fehlen\",str(df.isnull().sum().sum()), \"Einträge in\", str(df.name))\n",
    "    return [index for index in df.isnull().sum().index if df.isnull().sum()[index] > 0]\n",
    "\n",
    "fallzahlen_null_columns = get_null_columns(fallzahlen)\n",
    "impfungen_null_columns = get_null_columns(impfungen)\n",
    "print(\"unvollständige Spalten in Fallzahlen\",fallzahlen_null_columns)\n",
    "print(\"unvollständige Spalten in Impfungen\",impfungen_null_columns)"
   ]
  },
  {
   "cell_type": "markdown",
   "metadata": {
    "id": "6xaLR6fujZcA"
   },
   "source": [
    "Im Datensatz Fallzahlen fehlen nur in der Spalte \"TenCase\" Daten. Da die Spalte für die Auswertung nicht weiter relevant ist, wird sie gelöscht."
   ]
  },
  {
   "cell_type": "code",
   "execution_count": 39,
   "metadata": {
    "colab": {
     "base_uri": "https://localhost:8080/"
    },
    "id": "-7NoG2OjiX9N",
    "outputId": "d50d1aa3-8b82-45b7-a21c-7480e44b5f69"
   },
   "outputs": [
    {
     "name": "stdout",
     "output_type": "stream",
     "text": [
      "Es fehlen  0  Einträge in Fallzahlen\n"
     ]
    }
   ],
   "source": [
    "try:\n",
    "    fallzahlen.drop(columns=\"TenCase\", inplace = True, axis = 1)\n",
    "except:\n",
    "    print(\"Zelle bereits ausgeführt\")\n",
    "\n",
    "print(\"Es fehlen \",str(fallzahlen.isnull().sum().sum()), \" Einträge in Fallzahlen\")"
   ]
  },
  {
   "cell_type": "markdown",
   "metadata": {
    "id": "7E9Bb5Yfrvjm"
   },
   "source": [
    "Im Datensatz \"Impfungen\" fehlen in 9 von 12 Spalten Werte."
   ]
  },
  {
   "cell_type": "code",
   "execution_count": 40,
   "metadata": {
    "colab": {
     "base_uri": "https://localhost:8080/"
    },
    "id": "bB-cIy92ijn7",
    "outputId": "1f5ff83b-514e-4a73-da6d-b50f3f6edefa"
   },
   "outputs": [
    {
     "data": {
      "text/plain": [
       "location                                   0\n",
       "iso_code                                   0\n",
       "total_vaccinations                     14480\n",
       "people_vaccinated                      15286\n",
       "people_fully_vaccinated                18337\n",
       "daily_vaccinations_raw                 17640\n",
       "daily_vaccinations                       257\n",
       "total_vaccinations_per_hundred         14480\n",
       "people_vaccinated_per_hundred          15286\n",
       "people_fully_vaccinated_per_hundred    18337\n",
       "daily_vaccinations_per_million           257\n",
       "dtype: int64"
      ]
     },
     "execution_count": 40,
     "metadata": {},
     "output_type": "execute_result"
    }
   ],
   "source": [
    "impfungen.isnull().sum()"
   ]
  },
  {
   "cell_type": "markdown",
   "metadata": {
    "id": "WrhVpKnc1LBb"
   },
   "source": [
    "- unklare Datenlage in vielen Ländern\n",
    "- Untersuchung wo die Datenlage am besten ist\n",
    "- Auswahl der Länder mit der besten Datenlage"
   ]
  },
  {
   "cell_type": "code",
   "execution_count": 79,
   "metadata": {},
   "outputs": [],
   "source": [
    "def get_continent_from_country(country):\n",
    "    continents = {\"AF\": \"Africa\", \n",
    "                  \"NA\": \"North America\", \n",
    "                  \"OC\": \"Oceania\", \n",
    "                  \"AN\": \"Antarctica\", \n",
    "                  \"AS\": \"Asia\", \n",
    "                  \"EU\": \"Europe\", \n",
    "                  \"SA\": \"South America\"}\n",
    "    try:\n",
    "        country_code = pc.country_name_to_country_alpha2(country, cn_name_format=\"default\")\n",
    "        continent_code = pc.country_alpha2_to_continent_code(country_code)\n",
    "        return continents[continent_code]\n",
    "    except:\n",
    "        return None"
   ]
  },
  {
   "cell_type": "code",
   "execution_count": 83,
   "metadata": {},
   "outputs": [
    {
     "data": {
      "text/plain": [
       "array(['Afghanistan', 'Africa', 'Albania', 'Algeria', 'Andorra', 'Angola',\n",
       "       'Anguilla', 'Antigua and Barbuda', 'Argentina', 'Armenia', 'Aruba',\n",
       "       'Asia', 'Australia', 'Austria', 'Azerbaijan', 'Bahamas', 'Bahrain',\n",
       "       'Bangladesh', 'Barbados', 'Belarus', 'Belgium', 'Belize', 'Benin',\n",
       "       'Bermuda', 'Bhutan', 'Bolivia', 'Bonaire Sint Eustatius and Saba',\n",
       "       'Bosnia and Herzegovina', 'Botswana', 'Brazil',\n",
       "       'British Virgin Islands', 'Brunei', 'Bulgaria', 'Burkina Faso',\n",
       "       'Cambodia', 'Cameroon', 'Canada', 'Cape Verde', 'Cayman Islands',\n",
       "       'Central African Republic', 'Chad', 'Chile', 'China', 'Colombia',\n",
       "       'Comoros', 'Congo', 'Cook Islands', 'Costa Rica', \"Cote d'Ivoire\",\n",
       "       'Croatia', 'Cuba', 'Curacao', 'Cyprus', 'Czechia',\n",
       "       'Democratic Republic of Congo', 'Denmark', 'Djibouti', 'Dominica',\n",
       "       'Dominican Republic', 'Ecuador', 'Egypt', 'El Salvador', 'England',\n",
       "       'Equatorial Guinea', 'Estonia', 'Eswatini', 'Ethiopia', 'Europe',\n",
       "       'European Union', 'Faeroe Islands', 'Falkland Islands', 'Fiji',\n",
       "       'Finland', 'France', 'French Polynesia', 'Gabon', 'Gambia',\n",
       "       'Georgia', 'Germany', 'Ghana', 'Gibraltar', 'Greece', 'Greenland',\n",
       "       'Grenada', 'Guatemala', 'Guernsey', 'Guinea', 'Guinea-Bissau',\n",
       "       'Guyana', 'Haiti', 'High income', 'Honduras', 'Hong Kong',\n",
       "       'Hungary', 'Iceland', 'India', 'Indonesia', 'Iran', 'Iraq',\n",
       "       'Ireland', 'Isle of Man', 'Israel', 'Italy', 'Jamaica', 'Japan',\n",
       "       'Jersey', 'Jordan', 'Kazakhstan', 'Kenya', 'Kosovo', 'Kuwait',\n",
       "       'Kyrgyzstan', 'Laos', 'Latvia', 'Lebanon', 'Lesotho', 'Liberia',\n",
       "       'Libya', 'Liechtenstein', 'Lithuania', 'Low income',\n",
       "       'Lower middle income', 'Luxembourg', 'Macao', 'Madagascar',\n",
       "       'Malawi', 'Malaysia', 'Maldives', 'Mali', 'Malta', 'Mauritania',\n",
       "       'Mauritius', 'Mexico', 'Moldova', 'Monaco', 'Mongolia',\n",
       "       'Montenegro', 'Montserrat', 'Morocco', 'Mozambique', 'Myanmar',\n",
       "       'Namibia', 'Nauru', 'Nepal', 'Netherlands', 'New Caledonia',\n",
       "       'New Zealand', 'Nicaragua', 'Niger', 'Nigeria', 'Niue',\n",
       "       'North America', 'North Macedonia', 'Northern Cyprus',\n",
       "       'Northern Ireland', 'Norway', 'Oceania', 'Oman', 'Pakistan',\n",
       "       'Palestine', 'Panama', 'Papua New Guinea', 'Paraguay', 'Peru',\n",
       "       'Philippines', 'Pitcairn', 'Poland', 'Portugal', 'Qatar',\n",
       "       'Romania', 'Russia', 'Rwanda', 'Saint Helena',\n",
       "       'Saint Kitts and Nevis', 'Saint Lucia',\n",
       "       'Saint Vincent and the Grenadines', 'Samoa', 'San Marino',\n",
       "       'Sao Tome and Principe', 'Saudi Arabia', 'Scotland', 'Senegal',\n",
       "       'Serbia', 'Seychelles', 'Sierra Leone', 'Singapore',\n",
       "       'Sint Maarten (Dutch part)', 'Slovakia', 'Slovenia',\n",
       "       'Solomon Islands', 'Somalia', 'South Africa', 'South America',\n",
       "       'South Korea', 'South Sudan', 'Spain', 'Sri Lanka', 'Sudan',\n",
       "       'Suriname', 'Sweden', 'Switzerland', 'Syria', 'Taiwan',\n",
       "       'Tajikistan', 'Thailand', 'Timor', 'Togo', 'Tonga',\n",
       "       'Trinidad and Tobago', 'Tunisia', 'Turkey', 'Turkmenistan',\n",
       "       'Turks and Caicos Islands', 'Tuvalu', 'Uganda', 'Ukraine',\n",
       "       'United Arab Emirates', 'United Kingdom', 'United States',\n",
       "       'Upper middle income', 'Uruguay', 'Uzbekistan', 'Vanuatu',\n",
       "       'Venezuela', 'Vietnam', 'Wales', 'Wallis and Futuna', 'World',\n",
       "       'Yemen', 'Zambia', 'Zimbabwe'], dtype=object)"
      ]
     },
     "execution_count": 83,
     "metadata": {},
     "output_type": "execute_result"
    }
   ],
   "source": [
    "impfungen[\"location\"].unique()"
   ]
  },
  {
   "cell_type": "code",
   "execution_count": 62,
   "metadata": {
    "colab": {
     "base_uri": "https://localhost:8080/"
    },
    "id": "i1Q4MelZwae8",
    "outputId": "3b33775b-c498-4e07-ee1b-b7389bf05608"
   },
   "outputs": [
    {
     "data": {
      "text/plain": [
       "Germany        0.121359\n",
       "Belgium        0.203252\n",
       "New Zealand    0.383772\n",
       "Malaysia       0.623583\n",
       "Switzerland    0.674603\n",
       "Name: rel. Null Values, dtype: float64"
      ]
     },
     "execution_count": 62,
     "metadata": {},
     "output_type": "execute_result"
    }
   ],
   "source": [
    "locations = impfungen[\"location\"].unique()\n",
    "location_null_count = {}\n",
    "for location in locations:\n",
    "    null_count_abs = impfungen[impfungen[\"location\"] == location].isnull().sum().sum()\n",
    "    len_rows = len(impfungen[impfungen[\"location\"] == location])\n",
    "    len_columns = len(impfungen[impfungen[\"location\"] == location].columns)\n",
    "\n",
    "    null_count_rel = 100*null_count_abs/(len_rows*len_columns)\n",
    "\n",
    "    location_null_count[location] = [null_count_abs, null_count_rel]\n",
    "location_null_count = pd.DataFrame.from_dict(location_null_count, orient='index', columns=[\"abs. Null Values\", \"rel. Null Values\"])\n",
    "location_null_count[\"continent\"] = location_null_count.index.map(lambda country: get_continent_from_country(country))\n",
    "location_null_count[\"rel. Null Values\"].sort_values().head(5)"
   ]
  },
  {
   "cell_type": "code",
   "execution_count": 87,
   "metadata": {},
   "outputs": [
    {
     "data": {
      "text/html": [
       "<div>\n",
       "<style scoped>\n",
       "    .dataframe tbody tr th:only-of-type {\n",
       "        vertical-align: middle;\n",
       "    }\n",
       "\n",
       "    .dataframe tbody tr th {\n",
       "        vertical-align: top;\n",
       "    }\n",
       "\n",
       "    .dataframe thead th {\n",
       "        text-align: right;\n",
       "    }\n",
       "</style>\n",
       "<table border=\"1\" class=\"dataframe\">\n",
       "  <thead>\n",
       "    <tr style=\"text-align: right;\">\n",
       "      <th></th>\n",
       "      <th>abs. Null Values</th>\n",
       "      <th>rel. Null Values</th>\n",
       "      <th>continent</th>\n",
       "    </tr>\n",
       "  </thead>\n",
       "  <tbody>\n",
       "    <tr>\n",
       "      <th>Africa</th>\n",
       "      <td>301</td>\n",
       "      <td>12.996546</td>\n",
       "      <td>None</td>\n",
       "    </tr>\n",
       "  </tbody>\n",
       "</table>\n",
       "</div>"
      ],
      "text/plain": [
       "        abs. Null Values  rel. Null Values continent\n",
       "Africa               301         12.996546      None"
      ]
     },
     "execution_count": 87,
     "metadata": {},
     "output_type": "execute_result"
    }
   ],
   "source": [
    "location_null_count[location_null_count.index == \"Africa\"]"
   ]
  },
  {
   "cell_type": "code",
   "execution_count": 74,
   "metadata": {},
   "outputs": [
    {
     "data": {
      "text/html": [
       "<div>\n",
       "<style scoped>\n",
       "    .dataframe tbody tr th:only-of-type {\n",
       "        vertical-align: middle;\n",
       "    }\n",
       "\n",
       "    .dataframe tbody tr th {\n",
       "        vertical-align: top;\n",
       "    }\n",
       "\n",
       "    .dataframe thead th {\n",
       "        text-align: right;\n",
       "    }\n",
       "</style>\n",
       "<table border=\"1\" class=\"dataframe\">\n",
       "  <thead>\n",
       "    <tr style=\"text-align: right;\">\n",
       "      <th></th>\n",
       "      <th>abs. Null Values</th>\n",
       "      <th>rel. Null Values</th>\n",
       "      <th>continent</th>\n",
       "    </tr>\n",
       "  </thead>\n",
       "  <tbody>\n",
       "    <tr>\n",
       "      <th>Germany</th>\n",
       "      <td>3</td>\n",
       "      <td>0.121359</td>\n",
       "      <td>Europe</td>\n",
       "    </tr>\n",
       "    <tr>\n",
       "      <th>Belgium</th>\n",
       "      <td>5</td>\n",
       "      <td>0.203252</td>\n",
       "      <td>Europe</td>\n",
       "    </tr>\n",
       "    <tr>\n",
       "      <th>Switzerland</th>\n",
       "      <td>17</td>\n",
       "      <td>0.674603</td>\n",
       "      <td>Europe</td>\n",
       "    </tr>\n",
       "    <tr>\n",
       "      <th>Italy</th>\n",
       "      <td>19</td>\n",
       "      <td>0.768608</td>\n",
       "      <td>Europe</td>\n",
       "    </tr>\n",
       "    <tr>\n",
       "      <th>Slovenia</th>\n",
       "      <td>27</td>\n",
       "      <td>1.092233</td>\n",
       "      <td>Europe</td>\n",
       "    </tr>\n",
       "  </tbody>\n",
       "</table>\n",
       "</div>"
      ],
      "text/plain": [
       "             abs. Null Values  rel. Null Values continent\n",
       "Germany                     3          0.121359    Europe\n",
       "Belgium                     5          0.203252    Europe\n",
       "Switzerland                17          0.674603    Europe\n",
       "Italy                      19          0.768608    Europe\n",
       "Slovenia                   27          1.092233    Europe"
      ]
     },
     "execution_count": 74,
     "metadata": {},
     "output_type": "execute_result"
    }
   ],
   "source": [
    "location_null_count[location_null_count[\"continent\"]==\"Europe\"].sort_values(\"rel. Null Values\").head()"
   ]
  },
  {
   "cell_type": "code",
   "execution_count": 70,
   "metadata": {},
   "outputs": [
    {
     "data": {
      "text/html": [
       "<div>\n",
       "<style scoped>\n",
       "    .dataframe tbody tr th:only-of-type {\n",
       "        vertical-align: middle;\n",
       "    }\n",
       "\n",
       "    .dataframe tbody tr th {\n",
       "        vertical-align: top;\n",
       "    }\n",
       "\n",
       "    .dataframe thead th {\n",
       "        text-align: right;\n",
       "    }\n",
       "</style>\n",
       "<table border=\"1\" class=\"dataframe\">\n",
       "  <thead>\n",
       "    <tr style=\"text-align: right;\">\n",
       "      <th></th>\n",
       "      <th>abs. Null Values</th>\n",
       "      <th>rel. Null Values</th>\n",
       "    </tr>\n",
       "    <tr>\n",
       "      <th>continent</th>\n",
       "      <th></th>\n",
       "      <th></th>\n",
       "    </tr>\n",
       "  </thead>\n",
       "  <tbody>\n",
       "    <tr>\n",
       "      <th>Europe</th>\n",
       "      <td>408.234043</td>\n",
       "      <td>18.831871</td>\n",
       "    </tr>\n",
       "    <tr>\n",
       "      <th>South America</th>\n",
       "      <td>367.615385</td>\n",
       "      <td>21.659310</td>\n",
       "    </tr>\n",
       "    <tr>\n",
       "      <th>Asia</th>\n",
       "      <td>538.480000</td>\n",
       "      <td>30.310098</td>\n",
       "    </tr>\n",
       "    <tr>\n",
       "      <th>North America</th>\n",
       "      <td>646.903226</td>\n",
       "      <td>36.795568</td>\n",
       "    </tr>\n",
       "    <tr>\n",
       "      <th>Africa</th>\n",
       "      <td>597.897959</td>\n",
       "      <td>45.004905</td>\n",
       "    </tr>\n",
       "    <tr>\n",
       "      <th>Oceania</th>\n",
       "      <td>564.066667</td>\n",
       "      <td>47.958266</td>\n",
       "    </tr>\n",
       "  </tbody>\n",
       "</table>\n",
       "</div>"
      ],
      "text/plain": [
       "               abs. Null Values  rel. Null Values\n",
       "continent                                        \n",
       "Europe               408.234043         18.831871\n",
       "South America        367.615385         21.659310\n",
       "Asia                 538.480000         30.310098\n",
       "North America        646.903226         36.795568\n",
       "Africa               597.897959         45.004905\n",
       "Oceania              564.066667         47.958266"
      ]
     },
     "execution_count": 70,
     "metadata": {},
     "output_type": "execute_result"
    }
   ],
   "source": [
    "location_null_count.groupby(\"continent\").mean().sort_values(\"rel. Null Values\")"
   ]
  },
  {
   "cell_type": "code",
   "execution_count": null,
   "metadata": {},
   "outputs": [],
   "source": []
  }
 ],
 "metadata": {
  "colab": {
   "collapsed_sections": [],
   "include_colab_link": true,
   "name": "covid-analysis.ipynb",
   "provenance": []
  },
  "kernelspec": {
   "display_name": "Python 3",
   "language": "python",
   "name": "python3"
  },
  "language_info": {
   "codemirror_mode": {
    "name": "ipython",
    "version": 3
   },
   "file_extension": ".py",
   "mimetype": "text/x-python",
   "name": "python",
   "nbconvert_exporter": "python",
   "pygments_lexer": "ipython3",
   "version": "3.8.3"
  }
 },
 "nbformat": 4,
 "nbformat_minor": 1
}
