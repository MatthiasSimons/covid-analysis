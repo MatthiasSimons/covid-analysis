{
  "nbformat": 4,
  "nbformat_minor": 0,
  "metadata": {
    "colab": {
      "name": "covid-analysis.ipynb",
      "provenance": [],
      "collapsed_sections": [],
      "include_colab_link": true
    },
    "kernelspec": {
      "name": "python3",
      "display_name": "Python 3"
    },
    "language_info": {
      "name": "python"
    }
  },
  "cells": [
    {
      "cell_type": "markdown",
      "metadata": {
        "id": "view-in-github",
        "colab_type": "text"
      },
      "source": [
        "<a href=\"https://colab.research.google.com/github/MatthiasSimons/covid-analysis/blob/main/covid_analysis.ipynb\" target=\"_parent\"><img src=\"https://colab.research.google.com/assets/colab-badge.svg\" alt=\"Open In Colab\"/></a>"
      ]
    },
    {
      "cell_type": "markdown",
      "metadata": {
        "id": "xhvCqeoGgOmp"
      },
      "source": [
        "# Programmierung und Auswertung großer Datenmengen\n",
        "## Analyse der Covid-19 Fallzahlen und Impfungen"
      ]
    },
    {
      "cell_type": "markdown",
      "metadata": {
        "id": "SzbNosKnfdz4"
      },
      "source": [
        "## Vorgehensweise\n",
        "\n",
        "\n",
        "*   Importieren\n",
        "*   Bereinigen\n",
        "*   Modifizieren\n",
        "*   Modellieren\n",
        "*   Validieren\n",
        "*   Bewerten\n",
        "*   Zusammenfassen\n",
        "\n",
        "\n",
        "\n"
      ]
    },
    {
      "cell_type": "markdown",
      "metadata": {
        "id": "SpoDgDbPge47"
      },
      "source": [
        "## Importieren der Bibliotheken"
      ]
    },
    {
      "cell_type": "code",
      "metadata": {
        "id": "WUpSJdMgTFJr"
      },
      "source": [
        "import pandas as pd"
      ],
      "execution_count": null,
      "outputs": []
    },
    {
      "cell_type": "markdown",
      "metadata": {
        "id": "B4THF19Ig9bv"
      },
      "source": [
        "## Importieren der Daten"
      ]
    },
    {
      "cell_type": "code",
      "metadata": {
        "id": "T_FcVpchTUgh"
      },
      "source": [
        "url_fallzahlen = \"https://raw.githubusercontent.com/ocaktans/Gathering-Covid-19-Data/73623b5057979a4bca4ffdf931cc29222ad7a58e/Covid-19%20Dataset.csv\"\n",
        "url_impfungen = \"https://raw.githubusercontent.com/owid/covid-19-data/master/public/data/vaccinations/vaccinations.csv\"\n",
        "fallzahlen = pd.read_csv(url_fallzahlen, sep=',')\n",
        "impfungen = pd.read_csv(url_impfungen, sep=',')"
      ],
      "execution_count": 28,
      "outputs": []
    },
    {
      "cell_type": "markdown",
      "metadata": {
        "id": "mIGB-a6bhC03"
      },
      "source": [
        "## Beschreibung der Daten"
      ]
    },
    {
      "cell_type": "markdown",
      "metadata": {
        "id": "i1zdYaimhFGl"
      },
      "source": [
        "### Datensatz: Covid-19 Fallzahlen"
      ]
    },
    {
      "cell_type": "markdown",
      "metadata": {
        "id": "6GtKb_KIhwCc"
      },
      "source": [
        "Bei dem Covid-19-Data Datensatz handelt es sich um einen Datensatz der die Entwicklung der Covid-19 Fallzahlen weltweit täglich abbildet"
      ]
    },
    {
      "cell_type": "code",
      "metadata": {
        "id": "2JayC3ZwTY1i",
        "colab": {
          "base_uri": "https://localhost:8080/",
          "height": 204
        },
        "outputId": "515431ca-0442-4eba-e9f9-6fd7b7363ce5"
      },
      "source": [
        "fallzahlen.head()"
      ],
      "execution_count": 26,
      "outputs": [
        {
          "output_type": "execute_result",
          "data": {
            "text/html": [
              "<div>\n",
              "<style scoped>\n",
              "    .dataframe tbody tr th:only-of-type {\n",
              "        vertical-align: middle;\n",
              "    }\n",
              "\n",
              "    .dataframe tbody tr th {\n",
              "        vertical-align: top;\n",
              "    }\n",
              "\n",
              "    .dataframe thead th {\n",
              "        text-align: right;\n",
              "    }\n",
              "</style>\n",
              "<table border=\"1\" class=\"dataframe\">\n",
              "  <thead>\n",
              "    <tr style=\"text-align: right;\">\n",
              "      <th></th>\n",
              "      <th>Unnamed: 0</th>\n",
              "      <th>Country</th>\n",
              "      <th>Date</th>\n",
              "      <th>Confirmed</th>\n",
              "      <th>Recovered</th>\n",
              "      <th>Deaths</th>\n",
              "      <th>Active Cases</th>\n",
              "      <th>Death Rate(%)</th>\n",
              "      <th>Increase</th>\n",
              "      <th>FirstDays</th>\n",
              "      <th>day_xth</th>\n",
              "      <th>Population_1k</th>\n",
              "      <th>TenCase</th>\n",
              "      <th>Cases/1000s</th>\n",
              "    </tr>\n",
              "  </thead>\n",
              "  <tbody>\n",
              "    <tr>\n",
              "      <th>0</th>\n",
              "      <td>0</td>\n",
              "      <td>Afghanistan</td>\n",
              "      <td>2020-01-22</td>\n",
              "      <td>0</td>\n",
              "      <td>0</td>\n",
              "      <td>0</td>\n",
              "      <td>0</td>\n",
              "      <td>0.0</td>\n",
              "      <td>0</td>\n",
              "      <td>2020-02-24</td>\n",
              "      <td>0</td>\n",
              "      <td>38928</td>\n",
              "      <td>2020-03-11</td>\n",
              "      <td>0.0</td>\n",
              "    </tr>\n",
              "    <tr>\n",
              "      <th>1</th>\n",
              "      <td>1</td>\n",
              "      <td>Afghanistan</td>\n",
              "      <td>2020-01-23</td>\n",
              "      <td>0</td>\n",
              "      <td>0</td>\n",
              "      <td>0</td>\n",
              "      <td>0</td>\n",
              "      <td>0.0</td>\n",
              "      <td>0</td>\n",
              "      <td>2020-02-24</td>\n",
              "      <td>0</td>\n",
              "      <td>38928</td>\n",
              "      <td>2020-03-11</td>\n",
              "      <td>0.0</td>\n",
              "    </tr>\n",
              "    <tr>\n",
              "      <th>2</th>\n",
              "      <td>2</td>\n",
              "      <td>Afghanistan</td>\n",
              "      <td>2020-01-24</td>\n",
              "      <td>0</td>\n",
              "      <td>0</td>\n",
              "      <td>0</td>\n",
              "      <td>0</td>\n",
              "      <td>0.0</td>\n",
              "      <td>0</td>\n",
              "      <td>2020-02-24</td>\n",
              "      <td>0</td>\n",
              "      <td>38928</td>\n",
              "      <td>2020-03-11</td>\n",
              "      <td>0.0</td>\n",
              "    </tr>\n",
              "    <tr>\n",
              "      <th>3</th>\n",
              "      <td>3</td>\n",
              "      <td>Afghanistan</td>\n",
              "      <td>2020-01-25</td>\n",
              "      <td>0</td>\n",
              "      <td>0</td>\n",
              "      <td>0</td>\n",
              "      <td>0</td>\n",
              "      <td>0.0</td>\n",
              "      <td>0</td>\n",
              "      <td>2020-02-24</td>\n",
              "      <td>0</td>\n",
              "      <td>38928</td>\n",
              "      <td>2020-03-11</td>\n",
              "      <td>0.0</td>\n",
              "    </tr>\n",
              "    <tr>\n",
              "      <th>4</th>\n",
              "      <td>4</td>\n",
              "      <td>Afghanistan</td>\n",
              "      <td>2020-01-26</td>\n",
              "      <td>0</td>\n",
              "      <td>0</td>\n",
              "      <td>0</td>\n",
              "      <td>0</td>\n",
              "      <td>0.0</td>\n",
              "      <td>0</td>\n",
              "      <td>2020-02-24</td>\n",
              "      <td>0</td>\n",
              "      <td>38928</td>\n",
              "      <td>2020-03-11</td>\n",
              "      <td>0.0</td>\n",
              "    </tr>\n",
              "  </tbody>\n",
              "</table>\n",
              "</div>"
            ],
            "text/plain": [
              "   Unnamed: 0      Country        Date  ...  Population_1k     TenCase  Cases/1000s\n",
              "0           0  Afghanistan  2020-01-22  ...          38928  2020-03-11          0.0\n",
              "1           1  Afghanistan  2020-01-23  ...          38928  2020-03-11          0.0\n",
              "2           2  Afghanistan  2020-01-24  ...          38928  2020-03-11          0.0\n",
              "3           3  Afghanistan  2020-01-25  ...          38928  2020-03-11          0.0\n",
              "4           4  Afghanistan  2020-01-26  ...          38928  2020-03-11          0.0\n",
              "\n",
              "[5 rows x 14 columns]"
            ]
          },
          "metadata": {
            "tags": []
          },
          "execution_count": 26
        }
      ]
    },
    {
      "cell_type": "markdown",
      "metadata": {
        "id": "LKonYiMrZTO6"
      },
      "source": [
        "Beschreibung der Spalten:\n",
        "- Country: Länder Namen\n",
        "- Date: Datum\n",
        "- Confirmed: Kumulative bestätigte Fälle\n",
        "- Recovered: Kumulative Genesene Fälle\n",
        "- Deaths: Kumulative Verstorbene\n",
        "- Active Cases: Aktive Fälle\n",
        "- Death Rate(%):\n",
        "- Increase: Tägliche Steigerung der bestätigten Fälle\n",
        "- FirstDays: Tag an dem der erste Fall gemeldet wurde\n",
        "- day_xth: verstrichene Tage seit dem ersten gemeldeten Fall\n",
        "- Population_1k: Einwohnerzahl in Tausend\n",
        "- TenCase: Tag an dem Zehn Fälle gemeldet wurden\n",
        "- Cases/1000s: Fälle pro Tausend Einwohner"
      ]
    },
    {
      "cell_type": "code",
      "metadata": {
        "colab": {
          "base_uri": "https://localhost:8080/"
        },
        "id": "DJFsf762Y1Rc",
        "outputId": "b58a96cc-1819-4ad8-8182-41136cc1f5aa"
      },
      "source": [
        "fallzahlen.info()"
      ],
      "execution_count": 29,
      "outputs": [
        {
          "output_type": "stream",
          "text": [
            "<class 'pandas.core.frame.DataFrame'>\n",
            "RangeIndex: 92737 entries, 0 to 92736\n",
            "Data columns (total 14 columns):\n",
            " #   Column         Non-Null Count  Dtype  \n",
            "---  ------         --------------  -----  \n",
            " 0   Unnamed: 0     92737 non-null  int64  \n",
            " 1   Country        92737 non-null  object \n",
            " 2   Date           92737 non-null  object \n",
            " 3   Confirmed      92737 non-null  int64  \n",
            " 4   Recovered      92737 non-null  int64  \n",
            " 5   Deaths         92737 non-null  int64  \n",
            " 6   Active Cases   92737 non-null  int64  \n",
            " 7   Death Rate(%)  92737 non-null  float64\n",
            " 8   Increase       92737 non-null  int64  \n",
            " 9   FirstDays      92737 non-null  object \n",
            " 10  day_xth        92737 non-null  int64  \n",
            " 11  Population_1k  92737 non-null  int64  \n",
            " 12  TenCase        90322 non-null  object \n",
            " 13  Cases/1000s    92737 non-null  float64\n",
            "dtypes: float64(2), int64(8), object(4)\n",
            "memory usage: 9.9+ MB\n"
          ],
          "name": "stdout"
        }
      ]
    },
    {
      "cell_type": "markdown",
      "metadata": {
        "id": "FJFzzmkGicod"
      },
      "source": [
        "### Datensatz: Covid-19 Impfrate"
      ]
    },
    {
      "cell_type": "markdown",
      "metadata": {
        "id": "l5C3CEqhipr0"
      },
      "source": [
        "Bei diese, Datensatz handelt es sich um einen Datensatz der die Entwicklung der Covid-19 Impfungen weltweit täglich abbildet"
      ]
    },
    {
      "cell_type": "code",
      "metadata": {
        "colab": {
          "base_uri": "https://localhost:8080/",
          "height": 309
        },
        "id": "Mfu7tpDrieLz",
        "outputId": "fdeabe62-ebdc-4108-f01b-b40b8c3b68af"
      },
      "source": [
        "impfungen.head()"
      ],
      "execution_count": 40,
      "outputs": [
        {
          "output_type": "execute_result",
          "data": {
            "text/html": [
              "<div>\n",
              "<style scoped>\n",
              "    .dataframe tbody tr th:only-of-type {\n",
              "        vertical-align: middle;\n",
              "    }\n",
              "\n",
              "    .dataframe tbody tr th {\n",
              "        vertical-align: top;\n",
              "    }\n",
              "\n",
              "    .dataframe thead th {\n",
              "        text-align: right;\n",
              "    }\n",
              "</style>\n",
              "<table border=\"1\" class=\"dataframe\">\n",
              "  <thead>\n",
              "    <tr style=\"text-align: right;\">\n",
              "      <th></th>\n",
              "      <th>location</th>\n",
              "      <th>iso_code</th>\n",
              "      <th>date</th>\n",
              "      <th>total_vaccinations</th>\n",
              "      <th>people_vaccinated</th>\n",
              "      <th>people_fully_vaccinated</th>\n",
              "      <th>daily_vaccinations_raw</th>\n",
              "      <th>daily_vaccinations</th>\n",
              "      <th>total_vaccinations_per_hundred</th>\n",
              "      <th>people_vaccinated_per_hundred</th>\n",
              "      <th>people_fully_vaccinated_per_hundred</th>\n",
              "      <th>daily_vaccinations_per_million</th>\n",
              "    </tr>\n",
              "  </thead>\n",
              "  <tbody>\n",
              "    <tr>\n",
              "      <th>0</th>\n",
              "      <td>Afghanistan</td>\n",
              "      <td>AFG</td>\n",
              "      <td>2021-02-22</td>\n",
              "      <td>0.0</td>\n",
              "      <td>0.0</td>\n",
              "      <td>NaN</td>\n",
              "      <td>NaN</td>\n",
              "      <td>NaN</td>\n",
              "      <td>0.0</td>\n",
              "      <td>0.0</td>\n",
              "      <td>NaN</td>\n",
              "      <td>NaN</td>\n",
              "    </tr>\n",
              "    <tr>\n",
              "      <th>1</th>\n",
              "      <td>Afghanistan</td>\n",
              "      <td>AFG</td>\n",
              "      <td>2021-02-23</td>\n",
              "      <td>NaN</td>\n",
              "      <td>NaN</td>\n",
              "      <td>NaN</td>\n",
              "      <td>NaN</td>\n",
              "      <td>1367.0</td>\n",
              "      <td>NaN</td>\n",
              "      <td>NaN</td>\n",
              "      <td>NaN</td>\n",
              "      <td>35.0</td>\n",
              "    </tr>\n",
              "    <tr>\n",
              "      <th>2</th>\n",
              "      <td>Afghanistan</td>\n",
              "      <td>AFG</td>\n",
              "      <td>2021-02-24</td>\n",
              "      <td>NaN</td>\n",
              "      <td>NaN</td>\n",
              "      <td>NaN</td>\n",
              "      <td>NaN</td>\n",
              "      <td>1367.0</td>\n",
              "      <td>NaN</td>\n",
              "      <td>NaN</td>\n",
              "      <td>NaN</td>\n",
              "      <td>35.0</td>\n",
              "    </tr>\n",
              "    <tr>\n",
              "      <th>3</th>\n",
              "      <td>Afghanistan</td>\n",
              "      <td>AFG</td>\n",
              "      <td>2021-02-25</td>\n",
              "      <td>NaN</td>\n",
              "      <td>NaN</td>\n",
              "      <td>NaN</td>\n",
              "      <td>NaN</td>\n",
              "      <td>1367.0</td>\n",
              "      <td>NaN</td>\n",
              "      <td>NaN</td>\n",
              "      <td>NaN</td>\n",
              "      <td>35.0</td>\n",
              "    </tr>\n",
              "    <tr>\n",
              "      <th>4</th>\n",
              "      <td>Afghanistan</td>\n",
              "      <td>AFG</td>\n",
              "      <td>2021-02-26</td>\n",
              "      <td>NaN</td>\n",
              "      <td>NaN</td>\n",
              "      <td>NaN</td>\n",
              "      <td>NaN</td>\n",
              "      <td>1367.0</td>\n",
              "      <td>NaN</td>\n",
              "      <td>NaN</td>\n",
              "      <td>NaN</td>\n",
              "      <td>35.0</td>\n",
              "    </tr>\n",
              "  </tbody>\n",
              "</table>\n",
              "</div>"
            ],
            "text/plain": [
              "      location  ... daily_vaccinations_per_million\n",
              "0  Afghanistan  ...                            NaN\n",
              "1  Afghanistan  ...                           35.0\n",
              "2  Afghanistan  ...                           35.0\n",
              "3  Afghanistan  ...                           35.0\n",
              "4  Afghanistan  ...                           35.0\n",
              "\n",
              "[5 rows x 12 columns]"
            ]
          },
          "metadata": {
            "tags": []
          },
          "execution_count": 40
        }
      ]
    },
    {
      "cell_type": "code",
      "metadata": {
        "id": "asZca5DjiuZq"
      },
      "source": [
        ""
      ],
      "execution_count": null,
      "outputs": []
    }
  ]
}